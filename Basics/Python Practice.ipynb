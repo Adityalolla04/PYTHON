{
 "cells": [
  {
   "cell_type": "code",
   "metadata": {
    "ExecuteTime": {
     "end_time": "2025-01-07T18:25:16.576507Z",
     "start_time": "2025-01-07T18:25:16.569359Z"
    }
   },
   "source": [
    "type(2)"
   ],
   "outputs": [
    {
     "data": {
      "text/plain": [
       "int"
      ]
     },
     "execution_count": 17,
     "metadata": {},
     "output_type": "execute_result"
    }
   ],
   "execution_count": 17
  },
  {
   "cell_type": "code",
   "metadata": {
    "ExecuteTime": {
     "end_time": "2025-01-07T18:25:16.656760Z",
     "start_time": "2025-01-07T18:25:16.652140Z"
    }
   },
   "source": [
    "type(4.28)"
   ],
   "outputs": [
    {
     "data": {
      "text/plain": [
       "float"
      ]
     },
     "execution_count": 18,
     "metadata": {},
     "output_type": "execute_result"
    }
   ],
   "execution_count": 18
  },
  {
   "cell_type": "code",
   "metadata": {
    "ExecuteTime": {
     "end_time": "2025-01-07T18:25:16.814366Z",
     "start_time": "2025-01-07T18:25:16.810666Z"
    }
   },
   "source": [
    "type(32 + 32)"
   ],
   "outputs": [
    {
     "data": {
      "text/plain": [
       "int"
      ]
     },
     "execution_count": 19,
     "metadata": {},
     "output_type": "execute_result"
    }
   ],
   "execution_count": 19
  },
  {
   "cell_type": "code",
   "metadata": {
    "ExecuteTime": {
     "end_time": "2025-01-07T18:25:16.890731Z",
     "start_time": "2025-01-07T18:25:16.887Z"
    }
   },
   "source": [
    "degree_celsius =  26.0\n",
    "9 / 5 * degree_celsius + 32"
   ],
   "outputs": [
    {
     "data": {
      "text/plain": [
       "78.80000000000001"
      ]
     },
     "execution_count": 20,
     "metadata": {},
     "output_type": "execute_result"
    }
   ],
   "execution_count": 20
  },
  {
   "cell_type": "code",
   "metadata": {
    "ExecuteTime": {
     "end_time": "2025-01-07T18:25:16.982356Z",
     "start_time": "2025-01-07T18:25:16.977234Z"
    }
   },
   "source": [
    "degree_celsius =  35.0\n",
    "9 / 5 * degree_celsius + 32"
   ],
   "outputs": [
    {
     "data": {
      "text/plain": [
       "95.0"
      ]
     },
     "execution_count": 21,
     "metadata": {},
     "output_type": "execute_result"
    }
   ],
   "execution_count": 21
  },
  {
   "cell_type": "code",
   "metadata": {
    "ExecuteTime": {
     "end_time": "2025-01-07T18:25:17.068828Z",
     "start_time": "2025-01-07T18:25:17.065574Z"
    }
   },
   "source": [
    "difference = 20\n",
    "double = 2 * difference\n",
    "print(double)\n",
    "difference = 5\n",
    "print(double)"
   ],
   "outputs": [
    {
     "name": "stdout",
     "output_type": "stream",
     "text": [
      "40\n",
      "40\n"
     ]
    }
   ],
   "execution_count": 22
  },
  {
   "cell_type": "code",
   "metadata": {
    "ExecuteTime": {
     "end_time": "2025-01-07T18:25:17.137810Z",
     "start_time": "2025-01-07T18:25:17.134802Z"
    }
   },
   "source": [
    "number = 3\n",
    "print(number)\n",
    "number = 2 * number\n",
    "print(number)\n",
    "number =  number * number"
   ],
   "outputs": [
    {
     "name": "stdout",
     "output_type": "stream",
     "text": [
      "3\n",
      "6\n"
     ]
    }
   ],
   "execution_count": 23
  },
  {
   "cell_type": "code",
   "metadata": {
    "ExecuteTime": {
     "end_time": "2025-01-07T18:25:17.236416Z",
     "start_time": "2025-01-07T18:25:17.214238Z"
    }
   },
   "source": [
    "temp = x\n",
    "x = y\n",
    "y = temp"
   ],
   "outputs": [
    {
     "ename": "NameError",
     "evalue": "name 'x' is not defined",
     "output_type": "error",
     "traceback": [
      "\u001B[0;31m---------------------------------------------------------------------------\u001B[0m",
      "\u001B[0;31mNameError\u001B[0m                                 Traceback (most recent call last)",
      "Cell \u001B[0;32mIn[24], line 1\u001B[0m\n\u001B[0;32m----> 1\u001B[0m temp \u001B[38;5;241m=\u001B[39m \u001B[43mx\u001B[49m\n\u001B[1;32m      2\u001B[0m x \u001B[38;5;241m=\u001B[39m y\n\u001B[1;32m      3\u001B[0m y \u001B[38;5;241m=\u001B[39m temp\n",
      "\u001B[0;31mNameError\u001B[0m: name 'x' is not defined"
     ]
    }
   ],
   "execution_count": 24
  },
  {
   "cell_type": "code",
   "metadata": {
    "ExecuteTime": {
     "end_time": "2025-01-07T18:25:17.283841Z",
     "start_time": "2025-01-07T18:25:07.970789Z"
    }
   },
   "source": [
    "9 - 3"
   ],
   "outputs": [
    {
     "data": {
      "text/plain": [
       "6"
      ]
     },
     "execution_count": 10,
     "metadata": {},
     "output_type": "execute_result"
    }
   ],
   "execution_count": 10
  },
  {
   "cell_type": "code",
   "metadata": {
    "ExecuteTime": {
     "end_time": "2025-01-07T18:25:17.392169Z",
     "start_time": "2025-01-07T18:25:09.132880Z"
    }
   },
   "source": [
    "def convert_celsius_to_fahrenheit(degree_in_celsius):\n",
    "    return 9 / 5 * degree_celsius + 32\n",
    "convert_celsius_to_fahrenheit(38)"
   ],
   "outputs": [
    {
     "data": {
      "text/plain": [
       "95.0"
      ]
     },
     "execution_count": 11,
     "metadata": {},
     "output_type": "execute_result"
    }
   ],
   "execution_count": 11
  },
  {
   "cell_type": "code",
   "metadata": {
    "ExecuteTime": {
     "end_time": "2025-01-07T18:25:17.433549Z",
     "start_time": "2025-01-07T18:25:09.792066Z"
    }
   },
   "source": [
    "day_temp = 3\n",
    "night_temp = 10\n",
    "abs(day_temp - night_temp)"
   ],
   "outputs": [
    {
     "data": {
      "text/plain": [
       "7"
      ]
     },
     "execution_count": 12,
     "metadata": {},
     "output_type": "execute_result"
    }
   ],
   "execution_count": 12
  },
  {
   "cell_type": "code",
   "metadata": {
    "ExecuteTime": {
     "end_time": "2025-01-07T18:25:17.511809Z",
     "start_time": "2025-01-07T18:25:10.652183Z"
    }
   },
   "source": [
    "abs(-7) + abs(3.3)"
   ],
   "outputs": [
    {
     "data": {
      "text/plain": [
       "10.3"
      ]
     },
     "execution_count": 13,
     "metadata": {},
     "output_type": "execute_result"
    }
   ],
   "execution_count": 13
  },
  {
   "cell_type": "code",
   "metadata": {
    "ExecuteTime": {
     "end_time": "2025-01-07T18:25:17.520603Z",
     "start_time": "2025-01-07T18:25:11.588423Z"
    }
   },
   "source": [
    "round(3.8)"
   ],
   "outputs": [
    {
     "data": {
      "text/plain": [
       "4"
      ]
     },
     "execution_count": 14,
     "metadata": {},
     "output_type": "execute_result"
    }
   ],
   "execution_count": 14
  },
  {
   "cell_type": "code",
   "metadata": {
    "ExecuteTime": {
     "end_time": "2025-01-07T18:25:17.581656Z",
     "start_time": "2025-01-07T18:25:12.433710Z"
    }
   },
   "source": [
    "round(3.3)"
   ],
   "outputs": [
    {
     "data": {
      "text/plain": [
       "3"
      ]
     },
     "execution_count": 15,
     "metadata": {},
     "output_type": "execute_result"
    }
   ],
   "execution_count": 15
  },
  {
   "cell_type": "code",
   "metadata": {
    "ExecuteTime": {
     "end_time": "2025-01-07T18:25:17.589737Z",
     "start_time": "2025-01-07T18:25:13.759494Z"
    }
   },
   "source": [
    "round(3.5)"
   ],
   "outputs": [
    {
     "data": {
      "text/plain": [
       "4"
      ]
     },
     "execution_count": 16,
     "metadata": {},
     "output_type": "execute_result"
    }
   ],
   "execution_count": 16
  },
  {
   "cell_type": "code",
   "execution_count": null,
   "metadata": {},
   "outputs": [
    {
     "data": {
      "text/plain": [
       "4"
      ]
     },
     "execution_count": 22,
     "metadata": {},
     "output_type": "execute_result"
    }
   ],
   "source": [
    "round(4.5)"
   ]
  },
  {
   "cell_type": "code",
   "execution_count": null,
   "metadata": {},
   "outputs": [
    {
     "data": {
      "text/plain": [
       "3.14"
      ]
     },
     "execution_count": 23,
     "metadata": {},
     "output_type": "execute_result"
    }
   ],
   "source": [
    "round(3.141592653,2)"
   ]
  },
  {
   "cell_type": "code",
   "execution_count": null,
   "metadata": {},
   "outputs": [
    {
     "name": "stdout",
     "output_type": "stream",
     "text": [
      "round: 3\n",
      "ceil: 4\n",
      "floor: 3\n"
     ]
    }
   ],
   "source": [
    "import math\n",
    "print('round:', round(3.141592653))\n",
    "print('ceil:', math.ceil(3.141592653))\n",
    "print('floor:', math.floor(3.141592653))\n"
   ]
  },
  {
   "cell_type": "code",
   "execution_count": null,
   "metadata": {},
   "outputs": [
    {
     "name": "stdout",
     "output_type": "stream",
     "text": [
      "2.765000000000000124344978758017532527446746826171875\n",
      "3.16500000000000003552713678800500929355621337890625\n",
      "5.67649999999999987920773492078296840190887451171875\n"
     ]
    }
   ],
   "source": [
    "import decimal\n",
    "print(decimal.Decimal(2.765))\n",
    "print(decimal.Decimal(3.165))\n",
    "print(decimal.Decimal(5.6765))"
   ]
  },
  {
   "cell_type": "code",
   "execution_count": null,
   "metadata": {},
   "outputs": [
    {
     "name": "stdout",
     "output_type": "stream",
     "text": [
      "Help on built-in function round in module builtins:\n",
      "\n",
      "round(number, ndigits=None)\n",
      "    Round a number to a given precision in decimal digits.\n",
      "    \n",
      "    The return value is an integer if ndigits is omitted or None.  Otherwise\n",
      "    the return value has the same type as the number.  ndigits may be negative.\n",
      "\n"
     ]
    }
   ],
   "source": [
    "help(round)"
   ]
  },
  {
   "cell_type": "code",
   "execution_count": null,
   "metadata": {},
   "outputs": [
    {
     "name": "stdout",
     "output_type": "stream",
     "text": [
      "Help on built-in function pow in module builtins:\n",
      "\n",
      "pow(base, exp, mod=None)\n",
      "    Equivalent to base**exp with 2 arguments or base**exp % mod with 3 arguments\n",
      "    \n",
      "    Some types, such as ints, are able to use a more efficient algorithm when\n",
      "    invoked using the three argument form.\n",
      "\n"
     ]
    }
   ],
   "source": [
    "help(pow)"
   ]
  },
  {
   "cell_type": "code",
   "execution_count": null,
   "metadata": {},
   "outputs": [
    {
     "data": {
      "text/plain": [
       "256"
      ]
     },
     "execution_count": 4,
     "metadata": {},
     "output_type": "execute_result"
    }
   ],
   "source": [
    "pow(4, 4)"
   ]
  },
  {
   "cell_type": "code",
   "execution_count": null,
   "metadata": {},
   "outputs": [
    {
     "data": {
      "text/plain": [
       "1"
      ]
     },
     "execution_count": 5,
     "metadata": {},
     "output_type": "execute_result"
    }
   ],
   "source": [
    "pow(2, 4, 3)"
   ]
  },
  {
   "cell_type": "code",
   "execution_count": null,
   "metadata": {},
   "outputs": [
    {
     "data": {
      "text/plain": [
       "2"
      ]
     },
     "execution_count": 6,
     "metadata": {},
     "output_type": "execute_result"
    }
   ],
   "source": [
    "min(2, 3, 4)"
   ]
  },
  {
   "cell_type": "code",
   "execution_count": null,
   "metadata": {},
   "outputs": [
    {
     "data": {
      "text/plain": [
       "25"
      ]
     },
     "execution_count": 7,
     "metadata": {},
     "output_type": "execute_result"
    }
   ],
   "source": [
    "def f(x):\n",
    "    squared_x = x * x\n",
    "    return squared_x\n",
    "f(5)"
   ]
  },
  {
   "cell_type": "code",
   "execution_count": null,
   "metadata": {},
   "outputs": [
    {
     "data": {
      "text/plain": [
       "16"
      ]
     },
     "execution_count": 8,
     "metadata": {},
     "output_type": "execute_result"
    }
   ],
   "source": [
    "def f(x):\n",
    "    squared_x = pow(x, 2)\n",
    "    return squared_x\n",
    "f(4)"
   ]
  },
  {
   "cell_type": "code",
   "execution_count": null,
   "metadata": {},
   "outputs": [],
   "source": [
    "def f(x):\n",
    "    x = x * 3\n",
    "result = f(3)\n",
    "result\n"
   ]
  },
  {
   "cell_type": "code",
   "execution_count": null,
   "metadata": {},
   "outputs": [
    {
     "name": "stdout",
     "output_type": "stream",
     "text": [
      "None\n"
     ]
    },
    {
     "data": {
      "text/plain": [
       "4375870032"
      ]
     },
     "execution_count": 14,
     "metadata": {},
     "output_type": "execute_result"
    }
   ],
   "source": [
    "print(result)\n",
    "id(result)"
   ]
  },
  {
   "cell_type": "code",
   "execution_count": null,
   "metadata": {},
   "outputs": [
    {
     "data": {
      "text/plain": [
       "13.0"
      ]
     },
     "execution_count": 15,
     "metadata": {},
     "output_type": "execute_result"
    }
   ],
   "source": [
    "def quadratic(a, b, c, x):\n",
    "    first = a * x ** 2\n",
    "    second = b * x\n",
    "    third = c\n",
    "    return first + second + third\n",
    "quadratic(2, 3, 4, 0.5)\n",
    "quadratic(2, 3, 4, 1.5)\n"
   ]
  },
  {
   "cell_type": "code",
   "execution_count": null,
   "metadata": {},
   "outputs": [
    {
     "data": {
      "text/plain": [
       "4"
      ]
     },
     "execution_count": 16,
     "metadata": {},
     "output_type": "execute_result"
    }
   ],
   "source": [
    "max(2, -3, min(4, 7), -5)"
   ]
  },
  {
   "cell_type": "code",
   "execution_count": null,
   "metadata": {},
   "outputs": [
    {
     "data": {
      "text/plain": [
       "'KartAdityahik'"
      ]
     },
     "execution_count": 2,
     "metadata": {},
     "output_type": "execute_result"
    }
   ],
   "source": [
    "'Aditya'\n",
    "\"Karthik\""
   ]
  },
  {
   "cell_type": "code",
   "execution_count": null,
   "metadata": {},
   "outputs": [
    {
     "data": {
      "text/plain": [
       "'Should you want a string\\n\\u200b \\tthat crosses multiple lines,\\n\\u200b \\tUse matched triple quotes.'"
      ]
     },
     "execution_count": 3,
     "metadata": {},
     "output_type": "execute_result"
    }
   ],
   "source": [
    "'''Should you want a string\n",
    "​ \tthat crosses multiple lines,\n",
    "​ \tUse matched triple quotes.'''"
   ]
  },
  {
   "cell_type": "code",
   "execution_count": null,
   "metadata": {},
   "outputs": [
    {
     "name": "stdout",
     "output_type": "stream",
     "text": [
      "abcd 2 3\n",
      "abcd\n",
      "2\n",
      "3\n"
     ]
    }
   ],
   "source": [
    "print('abcd', 2, 3)\n",
    "print('abcd', 2, 3, sep='\\n')"
   ]
  },
  {
   "cell_type": "code",
   "execution_count": null,
   "metadata": {},
   "outputs": [
    {
     "name": "stdout",
     "output_type": "stream",
     "text": [
      "DavidSalac\n"
     ]
    }
   ],
   "source": [
    "psycho = 'DavidSalac'\n",
    "print(psycho)"
   ]
  },
  {
   "cell_type": "code",
   "execution_count": null,
   "metadata": {},
   "outputs": [
    {
     "data": {
      "text/plain": [
       "'Alan Turning Grace Hopper'"
      ]
     },
     "execution_count": 7,
     "metadata": {},
     "output_type": "execute_result"
    }
   ],
   "source": [
    "'Alan Turning' +  ' ' + 'Grace Hopper'"
   ]
  },
  {
   "cell_type": "code",
   "execution_count": null,
   "metadata": {},
   "outputs": [
    {
     "ename": "TypeError",
     "evalue": "can only concatenate str (not \"int\") to str",
     "output_type": "error",
     "traceback": [
      "\u001B[0;31m---------------------------------------------------------------------------\u001B[0m",
      "\u001B[0;31mTypeError\u001B[0m                                 Traceback (most recent call last)",
      "Cell \u001B[0;32mIn[9], line 1\u001B[0m\n\u001B[0;32m----> 1\u001B[0m \u001B[38;5;124;43m'\u001B[39;49m\u001B[38;5;124;43mNH\u001B[39;49m\u001B[38;5;124;43m'\u001B[39;49m\u001B[43m \u001B[49m\u001B[38;5;241;43m+\u001B[39;49m\u001B[43m \u001B[49m\u001B[38;5;241;43m3\u001B[39;49m \u001B[38;5;66;03m# This will not work. You cannot add a str and int type. \u001B[39;00m\n",
      "\u001B[0;31mTypeError\u001B[0m: can only concatenate str (not \"int\") to str"
     ]
    }
   ],
   "source": [
    "'NH' + 3 # This will not work. You cannot add a str and int type. "
   ]
  },
  {
   "cell_type": "code",
   "execution_count": null,
   "metadata": {},
   "outputs": [
    {
     "data": {
      "text/plain": [
       "'Four Score and 7 years ago'"
      ]
     },
     "execution_count": 11,
     "metadata": {},
     "output_type": "execute_result"
    }
   ],
   "source": [
    "'Four Score and ' + str(7) + ' years ago'"
   ]
  },
  {
   "cell_type": "code",
   "execution_count": null,
   "metadata": {},
   "outputs": [
    {
     "data": {
      "text/plain": [
       "-324.4"
      ]
     },
     "execution_count": 12,
     "metadata": {},
     "output_type": "execute_result"
    }
   ],
   "source": [
    "int('0')\n",
    "int('11')\n",
    "int('-324')\n",
    "float('-324.40')"
   ]
  },
  {
   "cell_type": "code",
   "execution_count": null,
   "metadata": {},
   "outputs": [
    {
     "data": {
      "text/plain": [
       "'ATATATATAT'"
      ]
     },
     "execution_count": 14,
     "metadata": {},
     "output_type": "execute_result"
    }
   ],
   "source": [
    "'AT' * 5"
   ]
  },
  {
   "cell_type": "code",
   "execution_count": null,
   "metadata": {},
   "outputs": [
    {
     "data": {
      "text/plain": [
       "'and and and and and '"
      ]
     },
     "execution_count": 17,
     "metadata": {},
     "output_type": "execute_result"
    }
   ],
   "source": [
    "'and ' * 5"
   ]
  },
  {
   "cell_type": "code",
   "execution_count": null,
   "metadata": {},
   "outputs": [
    {
     "data": {
      "text/plain": [
       "12.222222222222221"
      ]
     },
     "execution_count": 22,
     "metadata": {},
     "output_type": "execute_result"
    }
   ],
   "source": [
    "def convert_celsius(fahrenheit):\n",
    "    return (fahrenheit - 32.0) * 5.0 / 9.0\n",
    "convert_celsius(54)"
   ]
  },
  {
   "cell_type": "code",
   "execution_count": null,
   "metadata": {},
   "outputs": [],
   "source": [
    "# Converting Numeric Values\n",
    "def convert_celsius():\n",
    "    fahrenheit = float(input('Please enter temperature in Fahrenheit:'))\n",
    "    celsius= (fahrenheit - 32.0) * 5.0 / 9.0\n",
    "    print('Temperature in celsius is:', celsius)\n"
   ]
  },
  {
   "cell_type": "code",
   "execution_count": null,
   "metadata": {},
   "outputs": [
    {
     "name": "stdout",
     "output_type": "stream",
     "text": [
      "PI is 3.14\n"
     ]
    }
   ],
   "source": [
    "PI = 3.14159265359\n",
    "name =  'PI'\n",
    "print('{0} is {1:.2f}'.format('PI', PI))"
   ]
  },
  {
   "cell_type": "code",
   "execution_count": null,
   "metadata": {},
   "outputs": [
    {
     "name": "stdout",
     "output_type": "stream",
     "text": [
      "PI is 3.14\n"
     ]
    }
   ],
   "source": [
    "PI = 3.14159265359\n",
    "name =  'PI'\n",
    "print(f'{name} is {PI:.2f}')"
   ]
  },
  {
   "cell_type": "code",
   "execution_count": null,
   "metadata": {},
   "outputs": [
    {
     "name": "stdout",
     "output_type": "stream",
     "text": [
      "EAS503 113 92.3\n"
     ]
    }
   ],
   "source": [
    "a_str = 'EAS503'\n",
    "an_int = 113\n",
    "a_float = 92.3\n",
    "print(a_str, an_int, a_float)"
   ]
  },
  {
   "cell_type": "code",
   "execution_count": null,
   "metadata": {},
   "outputs": [],
   "source": [
    "line1 = 'This is the first line.\\n'\n",
    "line2 = 'This is the second line.'\n",
    "lines = line1 + line2"
   ]
  },
  {
   "cell_type": "code",
   "execution_count": null,
   "metadata": {},
   "outputs": [
    {
     "name": "stdout",
     "output_type": "stream",
     "text": [
      "EAS203\n",
      "EAS203\n"
     ]
    }
   ],
   "source": [
    "course_number = 'EAS203'\n",
    "class_size = 113\n",
    "class_average = '92.3'\n",
    "\n",
    "str_format = '{}'.format(course_number)\n",
    "f_string = f'{course_number}'\n",
    "\n",
    "print(str_format)\n",
    "print(f_string)"
   ]
  },
  {
   "cell_type": "code",
   "execution_count": null,
   "metadata": {},
   "outputs": [
    {
     "name": "stdout",
     "output_type": "stream",
     "text": [
      "The course number is EAS503. It has 113 students.\n"
     ]
    }
   ],
   "source": [
    "course_number = 'EAS503'\n",
    "class_size = 113\n",
    "class_average = 92.3\n",
    "f_string = f'The course number is {course_number}. It has {class_size} students.'\n",
    "\n",
    "print(f_string)"
   ]
  },
  {
   "cell_type": "code",
   "execution_count": null,
   "metadata": {},
   "outputs": [
    {
     "name": "stdout",
     "output_type": "stream",
     "text": [
      "The course number is EAS503    . It has 113        students. The class average is 92.3      .\n"
     ]
    }
   ],
   "source": [
    "course_number = 'EAS503'\n",
    "class_size = 113\n",
    "class_average = 92.3\n",
    "f_string = f'The course number is {course_number:<10}. It has {class_size:<10} students. The class average is {class_average:<10}.'\n",
    "\n",
    "print(f_string)"
   ]
  },
  {
   "cell_type": "code",
   "execution_count": null,
   "metadata": {},
   "outputs": [
    {
     "name": "stdout",
     "output_type": "stream",
     "text": [
      "The course number is EAS503    . It has        113 students. The class average is       92.3\n"
     ]
    }
   ],
   "source": [
    "# Specify the number of spaces use.\n",
    "course_number = 'EAS503'\n",
    "class_size = 113\n",
    "class_average = 92.3\n",
    "f_string = f'The course number is {course_number:10}. It has {class_size:10} students. The class average is {class_average:10}'\n",
    "\n",
    "print(f_string)"
   ]
  },
  {
   "cell_type": "code",
   "execution_count": null,
   "metadata": {},
   "outputs": [
    {
     "data": {
      "text/plain": [
       "'123,456'"
      ]
     },
     "execution_count": 12,
     "metadata": {},
     "output_type": "execute_result"
    }
   ],
   "source": [
    "number = 123456\n",
    "f'{number:,}'"
   ]
  },
  {
   "cell_type": "code",
   "execution_count": null,
   "metadata": {},
   "outputs": [
    {
     "data": {
      "text/plain": [
       "'123,456.23'"
      ]
     },
     "execution_count": 13,
     "metadata": {},
     "output_type": "execute_result"
    }
   ],
   "source": [
    "number = 123456.2345\n",
    "f'{number:,.2f}'"
   ]
  },
  {
   "cell_type": "code",
   "execution_count": null,
   "metadata": {},
   "outputs": [
    {
     "data": {
      "text/plain": [
       "'4'"
      ]
     },
     "execution_count": 15,
     "metadata": {},
     "output_type": "execute_result"
    }
   ],
   "source": [
    "f'{3.5:.0f}'\n",
    "f'{4.5:.0f}'"
   ]
  },
  {
   "cell_type": "code",
   "execution_count": null,
   "metadata": {},
   "outputs": [
    {
     "name": "stdout",
     "output_type": "stream",
     "text": [
      "+---------------------------------------------------+\n",
      "|               Cereal Yields (kg/ha)               |\n",
      "+---------------+--------+--------+--------+--------+\n",
      "|    Country    |  1980  |  1990  |  2000  |  2010  |\n",
      "+---------------+--------+--------+--------+--------+\n",
      "| China         |  2,937 |  4,321 |  4,752 |  5,527 |\n",
      "| Germany       |  4,225 |  5,411 |  6,453 |  6,718 |\n",
      "| United States |  3,772 |  4,755 |  5,854 |  6,988 |\n",
      "+---------------+--------+--------+--------+--------+\n"
     ]
    }
   ],
   "source": [
    "title = '|' + '{:^51}'.format('Cereal Yields (kg/ha)') + '|'\n",
    "line = '+' + '-'*15 + '+' + ('-'*8 + '+')*4\n",
    "row = '| {:<13} |' + ' {:6,d} |'*4\n",
    "header = '| {:^13s} |'.format('Country') + (' {:^6d} |'*4).format(1980, 1990,\n",
    "                                                                  2000, 2010)\n",
    "print('+' + '-'*(len(title)-2) + '+',\n",
    "      title,\n",
    "      line,\n",
    "      header,\n",
    "      line,\n",
    "      row.format('China', 2937, 4321, 4752, 5527),\n",
    "      row.format('Germany', 4225, 5411, 6453, 6718),\n",
    "      row.format('United States', 3772, 4755, 5854, 6988),\n",
    "      line,\n",
    "      sep='\\n')"
   ]
  },
  {
   "cell_type": "code",
   "execution_count": null,
   "metadata": {},
   "outputs": [],
   "source": [
    "\n",
    "title = '|' + '{:^51}'.format('Cereal Yields (kg/ha)') + '|'\n",
    "line = '+' + '-'*15 + '+' + ('-'*8 + '+')*4\n",
    "row = '| {:<13} |' + ' {:6,d} |'*4\n",
    "header = '| {:^13s} |'.format('Country') + (' {:^6d} |'*4).format(1980, 1990,\n",
    "                                                                  2000, 2010)\n",
    "file_content = '\\n'.join(('+' + '-'*(len(title)-2) + '+',\n",
    "      title,\n",
    "      line,\n",
    "      header,\n",
    "      line,\n",
    "      row.format('China', 2937, 4321, 4752, 5527),\n",
    "      row.format('Germany', 4225, 5411, 6453, 6718),\n",
    "      row.format('United States', 3772, 4755, 5854, 6988),\n",
    "      line))\n",
    "\n",
    "with open('test_file2.txt', 'w') as file:\n",
    "    file.wmyrite(file_content)"
   ]
  },
  {
   "cell_type": "code",
   "execution_count": null,
   "metadata": {},
   "outputs": [
    {
     "name": "stdout",
     "output_type": "stream",
     "text": [
      "   AAABBCC    Dummy\n",
      "AAABBCC\n"
     ]
    }
   ],
   "source": [
    "my_string = '   AAABBCC   '\n",
    "print(my_string, 'Dummy')\n",
    "print(my_string.strip())"
   ]
  },
  {
   "cell_type": "code",
   "execution_count": null,
   "metadata": {},
   "outputs": [
    {
     "name": "stdout",
     "output_type": "stream",
     "text": [
      "BBCCC\n",
      "    ABBCCC\n"
     ]
    }
   ],
   "source": [
    "my_string = 'ABBCCCA'\n",
    "print(my_string.strip('A'))\n",
    "my_string = '    ABBCCCA'\n",
    "print(my_string.strip('A'))"
   ]
  },
  {
   "cell_type": "code",
   "execution_count": null,
   "metadata": {},
   "outputs": [
    {
     "name": "stdout",
     "output_type": "stream",
     "text": [
      "   ABBCCC   Dummy\n",
      "ABBCCC   Dummy\n"
     ]
    }
   ],
   "source": [
    "my_string = '   ABBCCC  '\n",
    "print(my_string, 'Dummy')\n",
    "print(my_string.lstrip(), 'Dummy')"
   ]
  },
  {
   "cell_type": "code",
   "execution_count": null,
   "metadata": {},
   "outputs": [
    {
     "name": "stdout",
     "output_type": "stream",
     "text": [
      "   ABBCCC   Dummy\n",
      "   ABBCCC Dummy\n"
     ]
    }
   ],
   "source": [
    "my_string = '   ABBCCC  '\n",
    "print(my_string, 'Dummy')\n",
    "print(my_string.rstrip(), 'Dummy')"
   ]
  },
  {
   "cell_type": "code",
   "execution_count": null,
   "metadata": {},
   "outputs": [
    {
     "name": "stdout",
     "output_type": "stream",
     "text": [
      "False\n"
     ]
    }
   ],
   "source": [
    "my_string = 'EAS503'\n",
    "print(my_string.islower())"
   ]
  },
  {
   "cell_type": "code",
   "execution_count": null,
   "metadata": {},
   "outputs": [
    {
     "name": "stdout",
     "output_type": "stream",
     "text": [
      "True\n"
     ]
    }
   ],
   "source": [
    "my_string = 'EAS503'\n",
    "print(my_string.isupper())"
   ]
  },
  {
   "cell_type": "code",
   "execution_count": null,
   "metadata": {},
   "outputs": [
    {
     "name": "stdout",
     "output_type": "stream",
     "text": [
      "True\n"
     ]
    }
   ],
   "source": [
    "my_string = 'eas503'\n",
    "print(my_string.islower())"
   ]
  },
  {
   "cell_type": "code",
   "execution_count": null,
   "metadata": {},
   "outputs": [
    {
     "name": "stdout",
     "output_type": "stream",
     "text": [
      "Amazon Is One Of The Online Shopping Platform\n"
     ]
    }
   ],
   "source": [
    "my_string = 'amazon is one of the online shopping platform'\n",
    "print(my_string.title())"
   ]
  },
  {
   "cell_type": "code",
   "execution_count": null,
   "metadata": {},
   "outputs": [
    {
     "name": "stdout",
     "output_type": "stream",
     "text": [
      "Amazon is one of the online shopping platform\n"
     ]
    }
   ],
   "source": [
    "my_string = 'amazon is one of the online shopping platform'\n",
    "print(my_string.capitalize())"
   ]
  },
  {
   "cell_type": "code",
   "execution_count": null,
   "metadata": {},
   "outputs": [
    {
     "name": "stdout",
     "output_type": "stream",
     "text": [
      "AMAZON IS ONE OF THE ONLINE SHOPPING PLATFORM\n"
     ]
    }
   ],
   "source": [
    "my_string = 'amazon is one of the online shopping platform'\n",
    "print(my_string.swapcase())"
   ]
  },
  {
   "cell_type": "code",
   "execution_count": null,
   "metadata": {},
   "outputs": [
    {
     "name": "stdout",
     "output_type": "stream",
     "text": [
      "False\n",
      "True\n"
     ]
    }
   ],
   "source": [
    "my_string = 'EAS503'\n",
    "print(my_string.isalpha())\n",
    "my_string = 'EAS'\n",
    "print(my_string.isalpha())"
   ]
  },
  {
   "cell_type": "code",
   "execution_count": null,
   "metadata": {},
   "outputs": [
    {
     "name": "stdout",
     "output_type": "stream",
     "text": [
      "True\n"
     ]
    }
   ],
   "source": [
    "my_string = 'EAS503'\n",
    "print(my_string.isalnum())"
   ]
  },
  {
   "cell_type": "code",
   "execution_count": null,
   "metadata": {},
   "outputs": [
    {
     "name": "stdout",
     "output_type": "stream",
     "text": [
      "True\n"
     ]
    }
   ],
   "source": [
    "my_string = 'EAS'\n",
    "print(my_string.startswith('EAS'))"
   ]
  },
  {
   "cell_type": "code",
   "execution_count": null,
   "metadata": {},
   "outputs": [
    {
     "name": "stdout",
     "output_type": "stream",
     "text": [
      "False\n"
     ]
    }
   ],
   "source": [
    "my_string = 'Aditya'\n",
    "print(my_string.endswith('ad'))"
   ]
  },
  {
   "cell_type": "code",
   "execution_count": null,
   "metadata": {},
   "outputs": [
    {
     "name": "stdout",
     "output_type": "stream",
     "text": [
      "1\n",
      "1\n",
      "-1\n"
     ]
    }
   ],
   "source": [
    "my_string = 'ABBCCC'\n",
    "print(my_string.find('BB'))\n",
    "print(my_string.find('B'))\n",
    "print(my_string.find('AC'))"
   ]
  },
  {
   "cell_type": "code",
   "execution_count": null,
   "metadata": {},
   "outputs": [
    {
     "ename": "ValueError",
     "evalue": "substring not found",
     "output_type": "error",
     "traceback": [
      "\u001B[0;31m---------------------------------------------------------------------------\u001B[0m",
      "\u001B[0;31mValueError\u001B[0m                                Traceback (most recent call last)",
      "Cell \u001B[0;32mIn[24], line 2\u001B[0m\n\u001B[1;32m      1\u001B[0m my_string \u001B[38;5;241m=\u001B[39m \u001B[38;5;124m'\u001B[39m\u001B[38;5;124mABBCCC\u001B[39m\u001B[38;5;124m'\u001B[39m\n\u001B[0;32m----> 2\u001B[0m \u001B[38;5;28mprint\u001B[39m(\u001B[43mmy_string\u001B[49m\u001B[38;5;241;43m.\u001B[39;49m\u001B[43mindex\u001B[49m\u001B[43m(\u001B[49m\u001B[38;5;124;43m'\u001B[39;49m\u001B[38;5;124;43mAC\u001B[39;49m\u001B[38;5;124;43m'\u001B[39;49m\u001B[43m)\u001B[49m)\n",
      "\u001B[0;31mValueError\u001B[0m: substring not found"
     ]
    }
   ],
   "source": [
    "my_string = 'ABBCCC'\n",
    "print(my_string.index('AC'))"
   ]
  },
  {
   "cell_type": "code",
   "execution_count": null,
   "metadata": {},
   "outputs": [
    {
     "name": "stdout",
     "output_type": "stream",
     "text": [
      "3\n",
      "1\n",
      "1\n"
     ]
    }
   ],
   "source": [
    "my_string = 'ABBCCC'\n",
    "print(my_string.count('C'))\n",
    "print(my_string.count('CC'))\n",
    "print(my_string.count('CCC'))"
   ]
  },
  {
   "cell_type": "code",
   "execution_count": null,
   "metadata": {},
   "outputs": [
    {
     "name": "stdout",
     "output_type": "stream",
     "text": [
      " EAS503)\n",
      " EAS503\n"
     ]
    }
   ],
   "source": [
    "my_string = '(EAS503)'\n",
    "tmp1 = my_string.replace('(', ' ')\n",
    "print(tmp1)\n",
    "tmp2 = tmp1.replace(')', '')\n",
    "print(tmp2)\n"
   ]
  },
  {
   "cell_type": "code",
   "execution_count": null,
   "metadata": {},
   "outputs": [
    {
     "name": "stdout",
     "output_type": "stream",
     "text": [
      "EAS503\n"
     ]
    }
   ],
   "source": [
    "my_string = '(EAS503)'\n",
    "print(my_string.replace('(', '').replace(')', ''))"
   ]
  },
  {
   "cell_type": "code",
   "execution_count": null,
   "metadata": {},
   "outputs": [
    {
     "data": {
      "text/plain": [
       "'00EAS503'"
      ]
     },
     "execution_count": 30,
     "metadata": {},
     "output_type": "execute_result"
    }
   ],
   "source": [
    "#pretends zeros to a string; returns a new string\n",
    "my_string = 'EAS503'\n",
    "my_string.zfill(8)"
   ]
  },
  {
   "cell_type": "code",
   "execution_count": null,
   "metadata": {},
   "outputs": [
    {
     "data": {
      "text/plain": [
       "'000123'"
      ]
     },
     "execution_count": 34,
     "metadata": {},
     "output_type": "execute_result"
    }
   ],
   "source": [
    "my_string = '123'\n",
    "my_string.zfill(6)"
   ]
  },
  {
   "cell_type": "code",
   "execution_count": null,
   "metadata": {},
   "outputs": [
    {
     "data": {
      "text/plain": [
       "'1900_1924_1950_1990'"
      ]
     },
     "execution_count": 38,
     "metadata": {},
     "output_type": "execute_result"
    }
   ],
   "source": [
    "years = ('1900','1924', '1950', '1990')\n",
    "'_'.join((years))"
   ]
  },
  {
   "cell_type": "code",
   "execution_count": null,
   "metadata": {},
   "outputs": [
    {
     "data": {
      "text/plain": [
       "<function __main__.string_exercise1()>"
      ]
     },
     "execution_count": 3,
     "metadata": {},
     "output_type": "execute_result"
    }
   ],
   "source": [
    "def string_exercise1(): \n",
    "    print('They\\'ll hibernate during the winter.')\n",
    "    print(\"They\\'ll hibernate during the winter.\")\n",
    "string_exercise1"
   ]
  },
  {
   "cell_type": "code",
   "execution_count": null,
   "metadata": {},
   "outputs": [
    {
     "name": "stdout",
     "output_type": "stream",
     "text": [
      "{'$', '#', '!', '^', '@'}\n"
     ]
    },
    {
     "data": {
      "text/plain": [
       "5"
      ]
     },
     "execution_count": 2,
     "metadata": {},
     "output_type": "execute_result"
    }
   ],
   "source": [
    "special_character = set(\"!@#$^\")\n",
    "print(special_character)\n",
    "len(special_character)"
   ]
  },
  {
   "cell_type": "code",
   "execution_count": null,
   "metadata": {},
   "outputs": [
    {
     "name": "stdout",
     "output_type": "stream",
     "text": [
      "Enter!\n"
     ]
    }
   ],
   "source": [
    "is_superuser = True\n",
    "is_staff = True\n",
    "is_active = False\n",
    "if is_superuser or (is_staff and is_active):\n",
    "    print('Enter!')\n",
    "else:\n",
    "    print('You Shall Not Pass!')"
   ]
  },
  {
   "cell_type": "code",
   "execution_count": null,
   "metadata": {},
   "outputs": [
    {
     "name": "stdout",
     "output_type": "stream",
     "text": [
      "Enter!\n"
     ]
    }
   ],
   "source": [
    "is_staff = True\n",
    "is_active = True\n",
    "if is_staff and is_active:\n",
    "    print('Enter!')\n",
    "else:\n",
    "    print('You Shall Not Pass!')"
   ]
  },
  {
   "cell_type": "code",
   "execution_count": 9,
   "metadata": {},
   "outputs": [
    {
     "name": "stdout",
     "output_type": "stream",
     "text": [
      "No pH value was given!\n"
     ]
    }
   ],
   "source": [
    "value = input('Enter the pH level: ')\n",
    "if len(value) > 0:\n",
    "    ph = float(value) \n",
    "    if ph < 7.0:\n",
    "        print(ph, \" is acidic.\")\n",
    "    elif ph > 7.0:\n",
    "        print(ph, \" is basic.\")\n",
    "    else:\n",
    "        print(ph, \" is neutral.\")\n",
    "\n",
    "else:\n",
    "    print('No pH value was given!')"
   ]
  },
  {
   "cell_type": "code",
   "execution_count": 10,
   "metadata": {},
   "outputs": [],
   "source": [
    "# Implement the min() function for three inputs\n",
    "def my_min():\n",
    "    number1 = int(input('Enter first integer: '))\n",
    "    number2 = int(input('Enter second integer: '))\n",
    "    number3 = int(input('Enter third integer: '))\n",
    "\n",
    "    minimum = number1  \n",
    "\n",
    "    if number2 < minimum:\n",
    "        minimum = number2\n",
    "\n",
    "    if number3 < minimum:\n",
    "        minimum = number3\n",
    "\n",
    "    print('Minimum value is', minimum)\n",
    "    "
   ]
  },
  {
   "cell_type": "code",
   "execution_count": 11,
   "metadata": {},
   "outputs": [],
   "source": [
    "grades = ['A', 'b', 'C', 'D', 'F']\n",
    "days_in_months= [0, 31, 28, 31, 30, 31, 30, 31, 31, 31, 30, 31,30, 31]\n",
    "grades_count = [20, 40, 10, 2, 3]\n"
   ]
  },
  {
   "cell_type": "code",
   "execution_count": 12,
   "metadata": {},
   "outputs": [
    {
     "data": {
      "text/plain": [
       "'b'"
      ]
     },
     "execution_count": 12,
     "metadata": {},
     "output_type": "execute_result"
    }
   ],
   "source": [
    "grades[0]\n",
    "grades[2]\n",
    "grades[1]"
   ]
  },
  {
   "cell_type": "code",
   "execution_count": 13,
   "metadata": {},
   "outputs": [
    {
     "data": {
      "text/plain": [
       "['b', 'D']"
      ]
     },
     "execution_count": 13,
     "metadata": {},
     "output_type": "execute_result"
    }
   ],
   "source": [
    "grades[2:4]\n",
    "grades[1::2]"
   ]
  },
  {
   "cell_type": "code",
   "execution_count": 14,
   "metadata": {},
   "outputs": [
    {
     "data": {
      "text/plain": [
       "['F', 'D', 'C', 'B', 'A']"
      ]
     },
     "execution_count": 14,
     "metadata": {},
     "output_type": "execute_result"
    }
   ],
   "source": [
    "grades = ['A', 'B', 'C', 'D', 'F']\n",
    "grades[-1]  \n",
    "grades[::-1]"
   ]
  },
  {
   "cell_type": "code",
   "execution_count": 15,
   "metadata": {},
   "outputs": [],
   "source": [
    "grades = ['A', 'B', 'C', 'D', 'F']\n",
    "grades[0] = 'a'\n",
    "grades[1:2] = 'a'\n",
    "grades[2:] = ['d', 'f']"
   ]
  },
  {
   "cell_type": "code",
   "execution_count": 21,
   "metadata": {},
   "outputs": [],
   "source": [
    "grades = ['A', 'B', 'C', 'D', 'F']\n",
    "del grades[0]\n",
    "del grades[1:3]\n",
    "del grades"
   ]
  },
  {
   "cell_type": "code",
   "execution_count": 19,
   "metadata": {},
   "outputs": [
    {
     "name": "stdout",
     "output_type": "stream",
     "text": [
      "['A', 'B', 'C', 'D', 'F']\n"
     ]
    }
   ],
   "source": [
    "grades1 = ['A', 'B', 'C']\n",
    "grades2 = ['D', 'F']\n",
    "grades = grades1 + grades2\n",
    "print(grades)"
   ]
  },
  {
   "cell_type": "code",
   "execution_count": 23,
   "metadata": {},
   "outputs": [
    {
     "name": "stdout",
     "output_type": "stream",
     "text": [
      "['A', 'B', 'C', 'D', 'F', 'A', 'B', 'C', 'D', 'F', 'A', 'B', 'C', 'D', 'F']\n"
     ]
    }
   ],
   "source": [
    "grades = ['A', 'B', 'C', 'D', 'F']\n",
    "grades *= 3\n",
    "print(grades)"
   ]
  },
  {
   "cell_type": "code",
   "execution_count": 1,
   "metadata": {},
   "outputs": [
    {
     "name": "stdout",
     "output_type": "stream",
     "text": [
      "(1, 2, 3, [4, 5, 6, 7])\n"
     ]
    }
   ],
   "source": [
    "my_tuple = (1, 2, 3, [4, 5, 6])\n",
    "my_tuple[3].append(7)\n",
    "print(my_tuple)"
   ]
  },
  {
   "cell_type": "code",
   "execution_count": 2,
   "metadata": {},
   "outputs": [
    {
     "name": "stdout",
     "output_type": "stream",
     "text": [
      "D\n",
      "n\n",
      "e\n"
     ]
    }
   ],
   "source": [
    "my_string = 'Doe, John'\n",
    "print(my_string[0])\n",
    "print(my_string[-1])\n",
    "print(my_string[2])"
   ]
  },
  {
   "cell_type": "code",
   "execution_count": 3,
   "metadata": {},
   "outputs": [
    {
     "name": "stdout",
     "output_type": "stream",
     "text": [
      "['Doe,', 'John']\n",
      "['Doe', ' John']\n",
      "['Doe', 'John']\n"
     ]
    }
   ],
   "source": [
    "my_string = 'Doe, John'\n",
    "print(my_string.split())\n",
    "print(my_string.split(','))\n",
    "print(my_string.split(', '))"
   ]
  },
  {
   "cell_type": "code",
   "execution_count": 4,
   "metadata": {},
   "outputs": [
    {
     "name": "stdout",
     "output_type": "stream",
     "text": [
      "05 23 2023\n",
      "5 23 2023\n"
     ]
    }
   ],
   "source": [
    "date = '05-23-2023'\n",
    "\n",
    "month, day, year = date[:2], date[3:5], date[6:]\n",
    "print(month, day, year)\n",
    "print(int(month), int(day), int(year))"
   ]
  },
  {
   "cell_type": "code",
   "execution_count": 5,
   "metadata": {},
   "outputs": [
    {
     "name": "stdout",
     "output_type": "stream",
     "text": [
      "['05', '23', '2023']\n",
      "05 23 2023\n",
      "5 23 2023\n"
     ]
    }
   ],
   "source": [
    "date = '05-23-2023'\n",
    "print(date.split('-'))\n",
    "\n",
    "month, day, year = date.split('-')\n",
    "print(month, day, year)\n",
    "print(int(month), int(day), int(year))"
   ]
  },
  {
   "cell_type": "code",
   "execution_count": 6,
   "metadata": {},
   "outputs": [
    {
     "name": "stdout",
     "output_type": "stream",
     "text": [
      "['range', 'start=3;end=20;step=2']\n"
     ]
    }
   ],
   "source": [
    "#Limiting the splits\n",
    "my_string = 'range=start=3;end=20;step=2'\n",
    "print(my_string.split('=', 1))"
   ]
  },
  {
   "cell_type": "code",
   "execution_count": 7,
   "metadata": {},
   "outputs": [
    {
     "name": "stdout",
     "output_type": "stream",
     "text": [
      "3 20 2\n"
     ]
    }
   ],
   "source": [
    "# Extract the key-value pairs\n",
    "my_string = 'range=start=3;end=20;step=2'\n",
    "range_options = my_string.split('=', 1)[1]\n",
    "start, end, step = range_options.split(';')\n",
    "start = start.split('=')[1] # or [-1]\n",
    "end = end.split('=')[1] # or [-1]\n",
    "step = step.split('=')[1] # or [-1]\n",
    "print(start, end, step)"
   ]
  },
  {
   "cell_type": "code",
   "execution_count": 8,
   "metadata": {},
   "outputs": [
    {
     "name": "stdout",
     "output_type": "stream",
     "text": [
      "['First', 'line', 'Second', 'line', 'Third', 'line']\n",
      "['First line', 'Second line', 'Third line']\n",
      "['First line', 'Second line', 'Third line']\n"
     ]
    }
   ],
   "source": [
    "long_string='First line\\nSecond line\\nThird line'\n",
    "print(long_string.split())\n",
    "print(long_string.split('\\n'))\n",
    "print(long_string.splitlines())"
   ]
  },
  {
   "cell_type": "code",
   "execution_count": 9,
   "metadata": {},
   "outputs": [
    {
     "name": "stdout",
     "output_type": "stream",
     "text": [
      "E Upper Case\n",
      "a Lower Case\n",
      "S Upper Case\n",
      "5 Digit\n",
      "0 Digit\n",
      "3 Digit\n",
      "! Not Alpha Numeric\n"
     ]
    }
   ],
   "source": [
    "my_string = 'EaS503!'\n",
    "\n",
    "def char_type(char):\n",
    "    if 'A' <= char <= 'Z':\n",
    "        return 'Upper Case'\n",
    "    elif 'a' <= char <= 'z':\n",
    "        return 'Lower Case'\n",
    "    elif '0' <= char <= '9':\n",
    "        return 'Digit'\n",
    "    else:\n",
    "        return 'Not Alpha Numeric'\n",
    "\n",
    "\n",
    "print(my_string[0], char_type(my_string[0]))\n",
    "print(my_string[1], char_type(my_string[1]))\n",
    "print(my_string[2], char_type(my_string[2]))\n",
    "print(my_string[3], char_type(my_string[3]))\n",
    "print(my_string[4], char_type(my_string[4]))\n",
    "print(my_string[5], char_type(my_string[5]))\n",
    "print(my_string[6], char_type(my_string[6]))"
   ]
  },
  {
   "cell_type": "code",
   "execution_count": 10,
   "metadata": {},
   "outputs": [
    {
     "name": "stdout",
     "output_type": "stream",
     "text": [
      "0\n",
      "1\n",
      "2\n",
      "3\n",
      "4\n"
     ]
    }
   ],
   "source": [
    "#For loops\n",
    "values = [4, 10, 3, 8, -6]\n",
    "for i in range (len(values)):\n",
    "    print(i)"
   ]
  },
  {
   "cell_type": "code",
   "execution_count": 12,
   "metadata": {},
   "outputs": [
    {
     "name": "stdout",
     "output_type": "stream",
     "text": [
      "0 4\n",
      "1 10\n",
      "2 3\n",
      "3 8\n",
      "4 -6\n"
     ]
    }
   ],
   "source": [
    "values = [4, 10, 3, 8, -6]\n",
    "for i in range(len(values)):\n",
    "    print(i, values[i])"
   ]
  },
  {
   "cell_type": "code",
   "execution_count": 14,
   "metadata": {},
   "outputs": [
    {
     "name": "stdout",
     "output_type": "stream",
     "text": [
      "0 4\n",
      "1 10\n",
      "2 3\n",
      "3 8\n",
      "4 -6\n"
     ]
    }
   ],
   "source": [
    "#using enumerate\n",
    "values = [4, 10, 3, 8, -6]\n",
    "for index, value in enumerate(values):\n",
    "    print(index, value)"
   ]
  },
  {
   "cell_type": "code",
   "execution_count": 19,
   "metadata": {},
   "outputs": [
    {
     "name": "stdout",
     "output_type": "stream",
     "text": [
      "[8, 20, 6, 16, -12]\n"
     ]
    }
   ],
   "source": [
    "values = [4, 10, 3, 8, -6]\n",
    "for i in range(len(values)):\n",
    "    values[i] = values[i] * 2\n",
    "print(values)"
   ]
  },
  {
   "cell_type": "code",
   "execution_count": 20,
   "metadata": {},
   "outputs": [
    {
     "name": "stdout",
     "output_type": "stream",
     "text": [
      "Li 6.941\n",
      "Na 22.98976928\n",
      "K 39.0983\n"
     ]
    }
   ],
   "source": [
    "metals = ['Li', 'Na', 'K']\n",
    "weights = [6.941, 22.98976928, 39.0983]\n",
    "for i in range(len(metals)):\n",
    "    print(metals[i], weights[i])"
   ]
  },
  {
   "cell_type": "code",
   "execution_count": 21,
   "metadata": {},
   "outputs": [
    {
     "name": "stdout",
     "output_type": "stream",
     "text": [
      "Li 6.941\n",
      "Na 22.98976928\n",
      "K 39.0983\n"
     ]
    }
   ],
   "source": [
    "#Zip file example\n",
    "metals = ['Li', 'Na', 'K']\n",
    "weights = [6.941, 22.98976928, 39.0983]\n",
    "for metals, weights in zip(metals,weights):\n",
    "    print(metals, weights)"
   ]
  },
  {
   "cell_type": "code",
   "execution_count": 22,
   "metadata": {},
   "outputs": [
    {
     "name": "stdout",
     "output_type": "stream",
     "text": [
      "Li\n",
      "Na\n",
      "K\n",
      "F\n",
      "Cl\n",
      "Br\n"
     ]
    }
   ],
   "source": [
    "elements = [['Li', 'Na', 'K'], ['F', 'Cl', 'Br']]\n",
    "for inner_list in elements:\n",
    "    for item in inner_list:\n",
    "        print(item)"
   ]
  },
  {
   "cell_type": "code",
   "execution_count": 28,
   "metadata": {},
   "outputs": [
    {
     "name": "stdout",
     "output_type": "stream",
     "text": [
      "3\n",
      "3\n",
      "4\n"
     ]
    }
   ],
   "source": [
    "info = [\n",
    "    ['Isaac Newton', 1643, 1727],\n",
    "    ['Charles Darwin', 1809, 1882],\n",
    "    ['Alan Turing', 1912, 1954, 'alan@bletchley.uk']\n",
    "]\n",
    "for item in info:\n",
    "    print(len(item))"
   ]
  },
  {
   "cell_type": "code",
   "execution_count": 30,
   "metadata": {},
   "outputs": [
    {
     "name": "stdout",
     "output_type": "stream",
     "text": [
      "3\n"
     ]
    }
   ],
   "source": [
    "x = [1, 7, 3]\n",
    "sum = 0\n",
    "for ele in x:\n",
    "    sum = sum * 10\n",
    "print(ele)"
   ]
  },
  {
   "cell_type": "code",
   "execution_count": 31,
   "metadata": {},
   "outputs": [
    {
     "name": "stdout",
     "output_type": "stream",
     "text": [
      "1134000234 0001123344 4433211000\n"
     ]
    }
   ],
   "source": [
    "string1 = '1134000234'\n",
    "string2 = ''.join(sorted([ele for ele in string1]))\n",
    "string3 = ''.join(sorted([ele for ele in string1], reverse=True))\n",
    "print(string1, string2, string3)"
   ]
  },
  {
   "cell_type": "code",
   "execution_count": 32,
   "metadata": {},
   "outputs": [
    {
     "name": "stdout",
     "output_type": "stream",
     "text": [
      "0001123344\n"
     ]
    }
   ],
   "source": [
    "store = [0] * 10\n",
    "\n",
    "for char in string1:\n",
    "    index = int(char)\n",
    "    store[index] += 1\n",
    "\n",
    "sorted_string = ''\n",
    "for idx, ele in enumerate(store):\n",
    "    sorted_string += str(idx) * ele\n",
    "print(sorted_string)"
   ]
  },
  {
   "cell_type": "code",
   "execution_count": 33,
   "metadata": {},
   "outputs": [
    {
     "name": "stdout",
     "output_type": "stream",
     "text": [
      "20\n"
     ]
    }
   ],
   "source": [
    "# Sum of an Integer\n",
    "number = 23456\n",
    "sum = 0\n",
    "while number:\n",
    "    sum += number %10\n",
    "    number  = number // 10\n",
    "print(sum)"
   ]
  },
  {
   "cell_type": "code",
   "execution_count": 36,
   "metadata": {},
   "outputs": [
    {
     "ename": "FileNotFoundError",
     "evalue": "[Errno 2] No such file or directory: ''",
     "output_type": "error",
     "traceback": [
      "\u001B[0;31m---------------------------------------------------------------------------\u001B[0m",
      "\u001B[0;31mFileNotFoundError\u001B[0m                         Traceback (most recent call last)",
      "Cell \u001B[0;32mIn[36], line 3\u001B[0m\n\u001B[1;32m      1\u001B[0m \u001B[38;5;66;03m# File handling\u001B[39;00m\n\u001B[1;32m      2\u001B[0m filename \u001B[38;5;241m=\u001B[39m \u001B[38;5;124m'\u001B[39m\u001B[38;5;124m'\u001B[39m\n\u001B[0;32m----> 3\u001B[0m \u001B[38;5;28;01mwith\u001B[39;00m \u001B[38;5;28mopen\u001B[39m(filename, \u001B[38;5;124m'\u001B[39m\u001B[38;5;124mr\u001B[39m\u001B[38;5;124m'\u001B[39m) \u001B[38;5;28;01mas\u001B[39;00m file:\n\u001B[1;32m      4\u001B[0m     \u001B[38;5;28;01mfor\u001B[39;00m line \u001B[38;5;129;01min\u001B[39;00m file:\n\u001B[1;32m      5\u001B[0m         \u001B[38;5;28;01mif\u001B[39;00m \u001B[38;5;129;01mnot\u001B[39;00m line\u001B[38;5;241m.\u001B[39mstrip():\n",
      "File \u001B[0;32m/opt/anaconda3/lib/python3.11/site-packages/IPython/core/interactiveshell.py:310\u001B[0m, in \u001B[0;36m_modified_open\u001B[0;34m(file, *args, **kwargs)\u001B[0m\n\u001B[1;32m    303\u001B[0m \u001B[38;5;28;01mif\u001B[39;00m file \u001B[38;5;129;01min\u001B[39;00m {\u001B[38;5;241m0\u001B[39m, \u001B[38;5;241m1\u001B[39m, \u001B[38;5;241m2\u001B[39m}:\n\u001B[1;32m    304\u001B[0m     \u001B[38;5;28;01mraise\u001B[39;00m \u001B[38;5;167;01mValueError\u001B[39;00m(\n\u001B[1;32m    305\u001B[0m         \u001B[38;5;124mf\u001B[39m\u001B[38;5;124m\"\u001B[39m\u001B[38;5;124mIPython won\u001B[39m\u001B[38;5;124m'\u001B[39m\u001B[38;5;124mt let you open fd=\u001B[39m\u001B[38;5;132;01m{\u001B[39;00mfile\u001B[38;5;132;01m}\u001B[39;00m\u001B[38;5;124m by default \u001B[39m\u001B[38;5;124m\"\u001B[39m\n\u001B[1;32m    306\u001B[0m         \u001B[38;5;124m\"\u001B[39m\u001B[38;5;124mas it is likely to crash IPython. If you know what you are doing, \u001B[39m\u001B[38;5;124m\"\u001B[39m\n\u001B[1;32m    307\u001B[0m         \u001B[38;5;124m\"\u001B[39m\u001B[38;5;124myou can use builtins\u001B[39m\u001B[38;5;124m'\u001B[39m\u001B[38;5;124m open.\u001B[39m\u001B[38;5;124m\"\u001B[39m\n\u001B[1;32m    308\u001B[0m     )\n\u001B[0;32m--> 310\u001B[0m \u001B[38;5;28;01mreturn\u001B[39;00m io_open(file, \u001B[38;5;241m*\u001B[39margs, \u001B[38;5;241m*\u001B[39m\u001B[38;5;241m*\u001B[39mkwargs)\n",
      "\u001B[0;31mFileNotFoundError\u001B[0m: [Errno 2] No such file or directory: ''"
     ]
    }
   ],
   "source": [
    "# File handling\n",
    "filename = ''\n",
    "with open(filename, 'r') as file:\n",
    "    for line in file:\n",
    "        if not line.strip():\n",
    "            continue"
   ]
  },
  {
   "cell_type": "code",
   "execution_count": 39,
   "metadata": {},
   "outputs": [
    {
     "name": "stdout",
     "output_type": "stream",
     "text": [
      "2.5\n"
     ]
    }
   ],
   "source": [
    "my_list = [1,2,3,4]\n",
    "total = 0\n",
    "count = 0\n",
    "for value in my_list:\n",
    "   total += value\n",
    "   count += 1\n",
    "average = total / count\n",
    "print(average)\n"
   ]
  },
  {
   "cell_type": "code",
   "execution_count": 42,
   "metadata": {},
   "outputs": [
    {
     "ename": "NameError",
     "evalue": "name 'Sequence' is not defined",
     "output_type": "error",
     "traceback": [
      "\u001B[0;31m---------------------------------------------------------------------------\u001B[0m",
      "\u001B[0;31mNameError\u001B[0m                                 Traceback (most recent call last)",
      "Cell \u001B[0;32mIn[42], line 2\u001B[0m\n\u001B[1;32m      1\u001B[0m unique_values \u001B[38;5;241m=\u001B[39m []\n\u001B[0;32m----> 2\u001B[0m \u001B[38;5;28;01mfor\u001B[39;00m ele \u001B[38;5;129;01min\u001B[39;00m Sequence:\n\u001B[1;32m      3\u001B[0m     \u001B[38;5;28;01mif\u001B[39;00m ele \u001B[38;5;129;01mnot\u001B[39;00m \u001B[38;5;129;01min\u001B[39;00m unique_values:\n\u001B[1;32m      4\u001B[0m         unique_values\u001B[38;5;241m.\u001B[39mappend(ele)\n",
      "\u001B[0;31mNameError\u001B[0m: name 'Sequence' is not defined"
     ]
    }
   ],
   "source": [
    "unique_values = []\n",
    "for ele in Sequence:\n",
    "    if ele not in unique_values:\n",
    "        unique_values.append(ele)"
   ]
  },
  {
   "cell_type": "code",
   "execution_count": 43,
   "metadata": {},
   "outputs": [
    {
     "name": "stdout",
     "output_type": "stream",
     "text": [
      "10\n"
     ]
    }
   ],
   "source": [
    "def sum_list(input_list):\n",
    "    summed_values = 0\n",
    "    for value in input_list:\n",
    "        summed_values += value\n",
    "    return summed_values\n",
    "print(sum_list([1,2,3,4]))"
   ]
  },
  {
   "cell_type": "code",
   "execution_count": 7,
   "metadata": {},
   "outputs": [
    {
     "name": "stdout",
     "output_type": "stream",
     "text": [
      "2.5\n"
     ]
    }
   ],
   "source": [
    "def avg_list(input_list):\n",
    "    summed_values = 0\n",
    "    number_of_values = 0\n",
    "    for value in input_list:\n",
    "        summed_values += value\n",
    "        number_of_values += 1\n",
    "    return summed_values / number_of_values\n",
    "print(avg_list([1,2,3,4]))"
   ]
  },
  {
   "cell_type": "code",
   "execution_count": 10,
   "metadata": {},
   "outputs": [
    {
     "name": "stdout",
     "output_type": "stream",
     "text": [
      "2.5\n"
     ]
    }
   ],
   "source": [
    "def avg_list(input_list):\n",
    "    return sum(input_list) / len(input_list)\n",
    "print(avg_list([1,2,3,4]))\n"
   ]
  },
  {
   "cell_type": "code",
   "execution_count": 16,
   "metadata": {},
   "outputs": [
    {
     "name": "stdout",
     "output_type": "stream",
     "text": [
      "[2, 4, 6, 8]\n"
     ]
    }
   ],
   "source": [
    "def mul_list(input_list):\n",
    "    output = []\n",
    "    for ele in input_list:\n",
    "        output.append(ele * 2)\n",
    "    return output\n",
    "print(mul_list([1,2,3,4]))\n"
   ]
  },
  {
   "cell_type": "code",
   "execution_count": 21,
   "metadata": {},
   "outputs": [
    {
     "name": "stdout",
     "output_type": "stream",
     "text": [
      "[1, 4, 9, 16]\n"
     ]
    }
   ],
   "source": [
    "def pow_list(input_list, power):\n",
    "    output = []\n",
    "    for ele in input_list:\n",
    "        output.append(ele ** power)\n",
    "    return output\n",
    "print(pow_list([1,2,3,4], 2))"
   ]
  },
  {
   "cell_type": "code",
   "execution_count": 27,
   "metadata": {},
   "outputs": [
    {
     "name": "stdout",
     "output_type": "stream",
     "text": [
      "[1, 2, 3, 4, 5]\n"
     ]
    }
   ],
   "source": [
    "def remove_duplicates(input_list):\n",
    "    return list(set(input_list))\n",
    "print(remove_duplicates([1, 2, 3, 4, 4, 5, 1]))"
   ]
  },
  {
   "cell_type": "code",
   "execution_count": 29,
   "metadata": {},
   "outputs": [
    {
     "ename": "ZeroDivisionError",
     "evalue": "division by zero",
     "output_type": "error",
     "traceback": [
      "\u001B[0;31m---------------------------------------------------------------------------\u001B[0m",
      "\u001B[0;31mZeroDivisionError\u001B[0m                         Traceback (most recent call last)",
      "Cell \u001B[0;32mIn[29], line 12\u001B[0m\n\u001B[1;32m      8\u001B[0m     number_count \u001B[38;5;241m+\u001B[39m\u001B[38;5;241m=\u001B[39m \u001B[38;5;241m1\u001B[39m\n\u001B[1;32m      9\u001B[0m     input_string \u001B[38;5;241m=\u001B[39m \u001B[38;5;28minput\u001B[39m(\u001B[38;5;124m'\u001B[39m\u001B[38;5;124mEnter an integer. Enter nothing to quit: \u001B[39m\u001B[38;5;124m'\u001B[39m)\n\u001B[0;32m---> 12\u001B[0m average \u001B[38;5;241m=\u001B[39m \u001B[43msummed_values\u001B[49m\u001B[43m \u001B[49m\u001B[38;5;241;43m/\u001B[39;49m\u001B[43m \u001B[49m\u001B[43mnumber_count\u001B[49m\n\u001B[1;32m     14\u001B[0m \u001B[38;5;28mprint\u001B[39m(\u001B[38;5;124m'\u001B[39m\u001B[38;5;124mThe average of \u001B[39m\u001B[38;5;132;01m%d\u001B[39;00m\u001B[38;5;124m numbers is \u001B[39m\u001B[38;5;132;01m%f\u001B[39;00m\u001B[38;5;124m'\u001B[39m \u001B[38;5;241m%\u001B[39m(number_count, summed_values))\n",
      "\u001B[0;31mZeroDivisionError\u001B[0m: division by zero"
     ]
    }
   ],
   "source": [
    "summed_values = 0  # a container to store the sum of interger values collected\n",
    "number_count = 0  # a container to store the number of integer values collected\n",
    "\n",
    "input_string = input('Enter an integer. Enter nothing to quit: ')\n",
    "\n",
    "while input_string:\n",
    "    summed_values += int(input_string)\n",
    "    number_count += 1\n",
    "    input_string = input('Enter an integer. Enter nothing to quit: ')\n",
    "\n",
    "\n",
    "average = summed_values / number_count\n",
    "\n",
    "print('The average of %d numbers is %f' %(number_count, summed_values))"
   ]
  },
  {
   "cell_type": "code",
   "execution_count": 30,
   "metadata": {},
   "outputs": [
    {
     "ename": "ValueError",
     "evalue": "invalid literal for int() with base 10: ''",
     "output_type": "error",
     "traceback": [
      "\u001B[0;31m---------------------------------------------------------------------------\u001B[0m",
      "\u001B[0;31mValueError\u001B[0m                                Traceback (most recent call last)",
      "Cell \u001B[0;32mIn[30], line 4\u001B[0m\n\u001B[1;32m      1\u001B[0m summed_values \u001B[38;5;241m=\u001B[39m \u001B[38;5;241m0\u001B[39m  \u001B[38;5;66;03m# a container to store the sum of interger values collected\u001B[39;00m\n\u001B[1;32m      2\u001B[0m number_count \u001B[38;5;241m=\u001B[39m \u001B[38;5;241m0\u001B[39m  \u001B[38;5;66;03m# a container to store the number of integer values collected\u001B[39;00m\n\u001B[0;32m----> 4\u001B[0m number \u001B[38;5;241m=\u001B[39m \u001B[38;5;28;43mint\u001B[39;49m\u001B[43m(\u001B[49m\u001B[38;5;28;43minput\u001B[39;49m\u001B[43m(\u001B[49m\u001B[38;5;124;43m'\u001B[39;49m\u001B[38;5;124;43mEnter an integer. Enter negative number to quit: \u001B[39;49m\u001B[38;5;124;43m'\u001B[39;49m\u001B[43m)\u001B[49m\u001B[43m)\u001B[49m\n\u001B[1;32m      6\u001B[0m \u001B[38;5;28;01mwhile\u001B[39;00m number \u001B[38;5;241m>\u001B[39m\u001B[38;5;241m=\u001B[39m\u001B[38;5;241m0\u001B[39m:\n\u001B[1;32m      7\u001B[0m     summed_values \u001B[38;5;241m+\u001B[39m\u001B[38;5;241m=\u001B[39m \u001B[38;5;28mint\u001B[39m(number)\n",
      "\u001B[0;31mValueError\u001B[0m: invalid literal for int() with base 10: ''"
     ]
    }
   ],
   "source": [
    "summed_values = 0  # a container to store the sum of interger values collected\n",
    "number_count = 0  # a container to store the number of integer values collected\n",
    "\n",
    "number = int(input('Enter an integer. Enter negative number to quit: '))\n",
    "\n",
    "while number >=0:\n",
    "    summed_values += int(number)\n",
    "    number_count += 1\n",
    "    number = int(input('Enter an integer. Enter nothing to quit: '))\n",
    "\n",
    "\n",
    "average = summed_values / number_count\n",
    "\n",
    "print('The average of %d numbers is %f' %(number_count, summed_values))"
   ]
  },
  {
   "cell_type": "code",
   "execution_count": 31,
   "metadata": {},
   "outputs": [
    {
     "ename": "ValueError",
     "evalue": "invalid literal for int() with base 10: ''",
     "output_type": "error",
     "traceback": [
      "\u001B[0;31m---------------------------------------------------------------------------\u001B[0m",
      "\u001B[0;31mValueError\u001B[0m                                Traceback (most recent call last)",
      "Cell \u001B[0;32mIn[31], line 4\u001B[0m\n\u001B[1;32m      1\u001B[0m test_grades \u001B[38;5;241m=\u001B[39m \u001B[38;5;241m0\u001B[39m  \u001B[38;5;66;03m# a container to store the sum of interger values collected\u001B[39;00m\n\u001B[1;32m      2\u001B[0m number_tests \u001B[38;5;241m=\u001B[39m \u001B[38;5;241m0\u001B[39m  \u001B[38;5;66;03m# a container to store the number of integer values collected\u001B[39;00m\n\u001B[0;32m----> 4\u001B[0m number \u001B[38;5;241m=\u001B[39m \u001B[38;5;28;43mint\u001B[39;49m\u001B[43m(\u001B[49m\u001B[38;5;28;43minput\u001B[39;49m\u001B[43m(\u001B[49m\u001B[38;5;124;43m'\u001B[39;49m\u001B[38;5;124;43mEnter a test grade. Enter negative number to quit: \u001B[39;49m\u001B[38;5;124;43m'\u001B[39;49m\u001B[43m)\u001B[49m\u001B[43m)\u001B[49m\n\u001B[1;32m      6\u001B[0m \u001B[38;5;28;01mwhile\u001B[39;00m number \u001B[38;5;241m>\u001B[39m\u001B[38;5;241m=\u001B[39m\u001B[38;5;241m0\u001B[39m:\n\u001B[1;32m      7\u001B[0m     test_grades \u001B[38;5;241m+\u001B[39m\u001B[38;5;241m=\u001B[39m \u001B[38;5;28mint\u001B[39m(number)\n",
      "\u001B[0;31mValueError\u001B[0m: invalid literal for int() with base 10: ''"
     ]
    }
   ],
   "source": [
    "test_grades = 0  # a container to store the sum of interger values collected\n",
    "number_tests = 0  # a container to store the number of integer values collected\n",
    "\n",
    "number = int(input('Enter a test grade. Enter negative number to quit: '))\n",
    "\n",
    "while number >=0:\n",
    "    test_grades += int(number)\n",
    "    number_tests += 1\n",
    "    number = int(input('Enter a test grade. Enter negative number to quit: '))\n",
    "\n",
    "\n",
    "average = test_grades / number_tests\n",
    "\n",
    "\n",
    "if   90 <= average:\n",
    "    letter_grade = 'A'\n",
    "elif 80 <= average <= 89:\n",
    "    letter_grade = 'B'\n",
    "elif 70 <= average <= 79:\n",
    "    letter_grade = 'C'\n",
    "elif 60 <= average <= 69:\n",
    "    letter_grade = 'D'\n",
    "elif 60 >= average:\n",
    "    letter_grade = 'F'\n",
    "\n",
    "\n",
    "print(average, letter_grade)"
   ]
  },
  {
   "cell_type": "code",
   "execution_count": 33,
   "metadata": {},
   "outputs": [
    {
     "name": "stdout",
     "output_type": "stream",
     "text": [
      "[1, 4, 9, 16]\n"
     ]
    }
   ],
   "source": [
    "my_list = [1, 2, 3, 4]\n",
    "new_list = []\n",
    "for ele in my_list:\n",
    "    tmp = ele * ele\n",
    "    new_list.append(tmp)\n",
    "print(new_list)"
   ]
  },
  {
   "cell_type": "code",
   "execution_count": 36,
   "metadata": {},
   "outputs": [
    {
     "name": "stdout",
     "output_type": "stream",
     "text": [
      "[10, 20, 30]\n"
     ]
    }
   ],
   "source": [
    "my_list = [1, 2, 3]\n",
    "new_list = []\n",
    "for ele in my_list:\n",
    "    tmp = ele * 10\n",
    "    new_list.append(tmp)\n",
    "new_list = [ele*10 for ele in my_list]\n",
    "print(new_list)"
   ]
  },
  {
   "cell_type": "code",
   "execution_count": 40,
   "metadata": {},
   "outputs": [
    {
     "data": {
      "text/plain": [
       "['B', 'U', 'F', 'F', 'A', 'L', 'O']"
      ]
     },
     "execution_count": 40,
     "metadata": {},
     "output_type": "execute_result"
    }
   ],
   "source": [
    "animal = 'buffalo'\n",
    "[char.upper() for char in animal]\n"
   ]
  },
  {
   "cell_type": "code",
   "execution_count": 43,
   "metadata": {},
   "outputs": [
    {
     "name": "stdout",
     "output_type": "stream",
     "text": [
      "['John', 'Jane', 'Doe']\n"
     ]
    }
   ],
   "source": [
    "students = ['john', 'jane', 'doe']\n",
    "[student[0].upper() + student[1:] for student in students]\n",
    "students = ['john', 'jane', 'doe']\n",
    "print([student.title() for student in students])\n"
   ]
  },
  {
   "cell_type": "code",
   "execution_count": 44,
   "metadata": {},
   "outputs": [],
   "source": [
    "numbers = range(20)\n",
    "even = [number for number in numbers if number % 2 == 0 ]\n",
    "odd = [number for number in numbers if number % 2 != 0 ]"
   ]
  },
  {
   "cell_type": "code",
   "execution_count": 45,
   "metadata": {},
   "outputs": [],
   "source": [
    "days_in_months = {\n",
    "    'Jan': 31,\n",
    "    'Feb': (28,29),\n",
    "    'Mar': 31,\n",
    "    'Apr': 30,\n",
    "    'May': 31,\n",
    "    'Jun': 30,\n",
    "    'Jul': 31,\n",
    "    'Aug': 31,\n",
    "    'Sep': 30,\n",
    "    'Oct': 31,\n",
    "    'Nov': 30,\n",
    "    'Dec': 31,\n",
    "}"
   ]
  },
  {
   "cell_type": "code",
   "execution_count": 46,
   "metadata": {},
   "outputs": [],
   "source": [
    "my_dict = {\n",
    "    'name': 'john',\n",
    "    'email': 'john@email.com',\n",
    "    'id': 1234,\n",
    "    'major': 'Engineering'\n",
    "}"
   ]
  },
  {
   "cell_type": "code",
   "execution_count": 48,
   "metadata": {},
   "outputs": [
    {
     "name": "stdout",
     "output_type": "stream",
     "text": [
      "key is name and value is john\n",
      "key is email and value is john@email.com\n",
      "key is id and value is 1234\n",
      "key is major and value is Engineering\n"
     ]
    }
   ],
   "source": [
    "my_dict = {\n",
    "    'name': 'john',\n",
    "    'email': 'john@email.com',\n",
    "    'id': 1234,\n",
    "    'major': 'Engineering'\n",
    "}\n",
    "for key, value in my_dict.items():\n",
    "    print(f'key is {key} and value is {value}')"
   ]
  },
  {
   "cell_type": "code",
   "execution_count": 49,
   "metadata": {},
   "outputs": [
    {
     "name": "stdout",
     "output_type": "stream",
     "text": [
      "{1: False, 2: [3, 4, 5]} {1: True, 2: [3, 4, 5]}\n"
     ]
    }
   ],
   "source": [
    "x = {1: True, 2: [3, 4, 5]}\n",
    "y = x.copy()\n",
    "x[1] = False\n",
    "print(x, y)"
   ]
  },
  {
   "cell_type": "code",
   "execution_count": 50,
   "metadata": {},
   "outputs": [
    {
     "name": "stdout",
     "output_type": "stream",
     "text": [
      "{1: True, 2: [3, 4, 5, 6]} {1: True, 2: [3, 4, 5, 6]}\n"
     ]
    }
   ],
   "source": [
    "x = {1: True, 2: [3, 4, 5]}\n",
    "y = x.copy()\n",
    "x[2].append(6)\n",
    "print(x, y)"
   ]
  },
  {
   "cell_type": "code",
   "execution_count": 51,
   "metadata": {},
   "outputs": [],
   "source": [
    "new_student = {}.fromkeys(\n",
    "    ['name', 'email', 'id', 'major'], 'missing')\n",
    "\n",
    "my_dict = {}.fromkeys(range(5), 'iammissing')"
   ]
  },
  {
   "cell_type": "code",
   "execution_count": 52,
   "metadata": {},
   "outputs": [
    {
     "data": {
      "text/plain": [
       "'john'"
      ]
     },
     "execution_count": 52,
     "metadata": {},
     "output_type": "execute_result"
    }
   ],
   "source": [
    "my_dict = {\n",
    "    'name': 'john',\n",
    "    'email': 'john@email.com',\n",
    "    'id': 1234,\n",
    "    'major': 'Engineering'\n",
    "}\n",
    "my_dict.get('name', None) # default\n",
    "my_dict.get('name', False)\n",
    "my_dict.get('name', 'defaultname')"
   ]
  },
  {
   "cell_type": "code",
   "execution_count": 53,
   "metadata": {},
   "outputs": [],
   "source": [
    "my_dict = {\n",
    "    'name': 'john',\n",
    "    'email': 'john@email.com',\n",
    "    'id': 1234,\n",
    "    'major': 'Engineering'\n",
    "}\n",
    "del my_dict['name']"
   ]
  },
  {
   "cell_type": "code",
   "execution_count": 57,
   "metadata": {},
   "outputs": [
    {
     "data": {
      "text/plain": [
       "('major', 'Engineering')"
      ]
     },
     "execution_count": 57,
     "metadata": {},
     "output_type": "execute_result"
    }
   ],
   "source": [
    "#Remove the last item from dict\n",
    "my_dict = {\n",
    "    'name': 'john',\n",
    "    'email': 'john@email.com',\n",
    "    'id': 1234,\n",
    "    'major': 'Engineering'\n",
    "}\n",
    "my_dict.popitem()"
   ]
  },
  {
   "cell_type": "code",
   "execution_count": 58,
   "metadata": {},
   "outputs": [],
   "source": [
    "my_dict = {\n",
    "    'name': 'john',\n",
    "    'email': 'john@email.com',\n",
    "    'id': 1234,\n",
    "    'major': 'Engineering'\n",
    "}\n",
    "my_dict.update({'Graduate Year': 2024})"
   ]
  },
  {
   "cell_type": "code",
   "execution_count": 59,
   "metadata": {},
   "outputs": [],
   "source": [
    "my_dict = {}\n",
    "if 'Grades' not in my_dict:\n",
    "    my_dict['Grades'] =  []\n",
    "my_dict['Grades'].append(3)"
   ]
  },
  {
   "cell_type": "code",
   "execution_count": 60,
   "metadata": {},
   "outputs": [
    {
     "data": {
      "text/plain": [
       "Counter({31: 7, 30: 4, 0: 1, 28: 1})"
      ]
     },
     "execution_count": 60,
     "metadata": {},
     "output_type": "execute_result"
    }
   ],
   "source": [
    "from collections import Counter\n",
    "days_in_months = [0, 31, 28, 31, 30, 31, 30, 31, 31, 30, 31, 30, 31]\n",
    "\n",
    "Counter(days_in_months)"
   ]
  },
  {
   "cell_type": "code",
   "execution_count": 68,
   "metadata": {},
   "outputs": [
    {
     "name": "stdout",
     "output_type": "stream",
     "text": [
      "81\n"
     ]
    }
   ],
   "source": [
    "def square(num):\n",
    "\n",
    "    square2 = lambda num: num * num\n",
    "\n",
    "\n",
    "print(square2(9))"
   ]
  },
  {
   "cell_type": "code",
   "execution_count": 72,
   "metadata": {},
   "outputs": [
    {
     "name": "stdout",
     "output_type": "stream",
     "text": [
      "5\n"
     ]
    }
   ],
   "source": [
    "add = lambda x, y: x + y\n",
    "print(add(2, 3))"
   ]
  },
  {
   "cell_type": "code",
   "execution_count": 73,
   "metadata": {},
   "outputs": [
    {
     "name": "stdout",
     "output_type": "stream",
     "text": [
      "6\n"
     ]
    }
   ],
   "source": [
    "mul = lambda x, y: x * y\n",
    "print(mul(2, 3))"
   ]
  },
  {
   "cell_type": "code",
   "execution_count": 74,
   "metadata": {},
   "outputs": [
    {
     "ename": "SyntaxError",
     "evalue": "invalid syntax (310417651.py, line 21)",
     "output_type": "error",
     "traceback": [
      "\u001B[0;36m  Cell \u001B[0;32mIn[74], line 21\u001B[0;36m\u001B[0m\n\u001B[0;31m    map(lambda variables (comma separated): expression)\u001B[0m\n\u001B[0m                         ^\u001B[0m\n\u001B[0;31mSyntaxError\u001B[0m\u001B[0;31m:\u001B[0m invalid syntax\n"
     ]
    }
   ],
   "source": [
    "my_list = [2, 3, 4]\n",
    "\n",
    "# double this list\n",
    "\n",
    "# method 1 - define a square function\n",
    "\n",
    "def square_list(my_list):\n",
    "    new_list = []\n",
    "    for ele in my_list:\n",
    "        new_list.append(ele * ele)\n",
    "\n",
    "    return new_list\n",
    "\n",
    "print(square_list(my_list))\n",
    "\n",
    "# method 2 - list comprehension\n",
    "\n",
    "print([ele*ele for ele in my_list])\n",
    "\n",
    "# method 3 - use lambda with map\n",
    "map(lambda variables (comma separated): expression)\n",
    "\n",
    "print(list(map(lambda ele: ele*ele, my_list)))\n",
    "\n",
    "\n",
    "# map objects are a generator. How many times can you iterate over them?"
   ]
  },
  {
   "cell_type": "code",
   "execution_count": 75,
   "metadata": {},
   "outputs": [
    {
     "name": "stdout",
     "output_type": "stream",
     "text": [
      "['John', 'Jane', 'Doe']\n",
      "['John', 'Jane', 'Doe']\n",
      "['John', 'Jane', 'Doe']\n"
     ]
    }
   ],
   "source": [
    "students = ['john', 'jane', 'doe']\n",
    "# make upper case\n",
    "\n",
    "\n",
    "# method 1 create new list and loop\n",
    "new_list = []\n",
    "for student in students:\n",
    "    new_list.append(student.title())\n",
    "\n",
    "print(new_list)\n",
    "\n",
    "# method 2 -- use list comprehension\n",
    "\n",
    "print([student[0].upper()+student[1:] for student in students])\n",
    "\n",
    "# method 3 -- use lambda\n",
    "\n",
    "print(list(map(lambda student: student.title(), students)))"
   ]
  },
  {
   "cell_type": "code",
   "execution_count": 76,
   "metadata": {},
   "outputs": [
    {
     "name": "stdout",
     "output_type": "stream",
     "text": [
      "[{'Value': 34.4}, {'Value': 45.3}, {'Value': 73.4}]\n"
     ]
    }
   ],
   "source": [
    "my_dict = [{'value': '34.4'}, {'value': '45.3'}, {'value': '73.4'}]\n",
    "\n",
    "print(list(map(lambda ele: {'Value': float(ele['value'])}, my_dict)))"
   ]
  },
  {
   "cell_type": "code",
   "execution_count": null,
   "metadata": {},
   "outputs": [],
   "source": [
    "years = range(1970, 2000)\n",
    "\n",
    "def is_leap_year(year):\n",
    "    if year % 4 == 0:\n",
    "        return  True\n",
    "        else:\n",
    "            return False"
   ]
  },
  {
   "cell_type": "code",
   "execution_count": 4,
   "metadata": {},
   "outputs": [
    {
     "name": "stdout",
     "output_type": "stream",
     "text": [
      "<__main__.Point object at 0x1060cdd10>\n",
      "False\n",
      "False\n"
     ]
    }
   ],
   "source": [
    "#Sometimes you want to build a class that simply contains data and no added functionality. For this, use use namedtuple\n",
    "class Point:\n",
    "    def __init__(self, x, y):\n",
    "        self.x = x\n",
    "        self.y = y\n",
    "p1 = Point(10, 20)\n",
    "p2 = Point(10, 20)\n",
    "print(p1)\n",
    "print(p1 == p2)\n",
    "print(p1 is p2)"
   ]
  },
  {
   "cell_type": "code",
   "execution_count": 5,
   "metadata": {},
   "outputs": [
    {
     "name": "stdout",
     "output_type": "stream",
     "text": [
      "Point(x=10, y=10)\n",
      "Point(x=10, y=10)\n",
      "True\n",
      "False\n"
     ]
    }
   ],
   "source": [
    "from collections import namedtuple\n",
    "Point = namedtuple('Point', 'x y')\n",
    "\n",
    "p1 = Point(10, 10)\n",
    "p2 = Point(10, 10)\n",
    "print(p1)\n",
    "print(p2)\n",
    "print(p1 == p2)\n",
    "print(p1 is p2)"
   ]
  },
  {
   "cell_type": "markdown",
   "metadata": {},
   "source": [
    " Equality vs Reference\n",
    " \n",
    "== is for value equality\n",
    "\n",
    "is is for reference equality"
   ]
  },
  {
   "cell_type": "code",
   "execution_count": 6,
   "metadata": {},
   "outputs": [
    {
     "name": "stdout",
     "output_type": "stream",
     "text": [
      "True\n",
      "True\n",
      "True\n",
      "False\n"
     ]
    }
   ],
   "source": [
    "x = {1: 2, 3:4}\n",
    "y = x\n",
    "print(x == y)\n",
    "print(x is y)\n",
    "\n",
    "x = {3:4, 1:2}\n",
    "y = {1:2, 3:4}\n",
    "print(x == y)\n",
    "print(x is y)"
   ]
  },
  {
   "cell_type": "markdown",
   "metadata": {},
   "source": [
    "Passing in a mutable object to a class\n"
   ]
  },
  {
   "cell_type": "code",
   "execution_count": null,
   "metadata": {},
   "outputs": [],
   "source": [
    "class ScoreList():\n",
    "    def __init__(self, scores):\n",
    "        self.scores = scores\n",
    "\n",
    "    def average(self):\n",
    "        return sum(self.scores) / len(self.scores)\n",
    "\n",
    "l1 = [80, 90, 95, 92, 85]\n",
    "scores = ScoreList(l1) \n",
    "print(f'The final score is {scores.average()}.') \n",
    "l1.pop()\n",
    "print(f'The final score is {scores.average()}.')    "
   ]
  },
  {
   "cell_type": "markdown",
   "metadata": {},
   "source": [
    " repr vs str\n",
    " \n",
    "__repr__ - a method that returns a string containing an object’s printed representation. Its purpose is to unambiguous\n",
    "\n",
    "__str__ - a method that also returns a string representation of an object, but it is supposed to be human readable.\n",
    "\n",
    "print() will first try to use __str__. If that is not available, then it will use __repr__. That if that is not available, then it will use the parents __repr__."
   ]
  },
  {
   "cell_type": "code",
   "execution_count": 10,
   "metadata": {},
   "outputs": [
    {
     "name": "stdout",
     "output_type": "stream",
     "text": [
      "__str__: 1\n"
     ]
    },
    {
     "data": {
      "text/plain": [
       "__repr__: 1"
      ]
     },
     "execution_count": 10,
     "metadata": {},
     "output_type": "execute_result"
    }
   ],
   "source": [
    "class a:\n",
    "    def __init__(self, value):\n",
    "        self.value = value\n",
    "    def __repr__(self):\n",
    "        return f'__repr__: {self.value}'\n",
    "    def __str__(self):\n",
    "        return f'__str__: {self.value}'\n",
    "print(a(1))\n",
    "a(1)"
   ]
  },
  {
   "cell_type": "markdown",
   "metadata": {},
   "source": [
    "NamedTuple\n",
    "You can also use the NamedTuple class to build a data class. The benefit is that you can overwrite default functions, for example `str."
   ]
  },
  {
   "cell_type": "code",
   "execution_count": 11,
   "metadata": {},
   "outputs": [
    {
     "name": "stdout",
     "output_type": "stream",
     "text": [
      "x: 10; y: 10\n",
      "x: 10; y: 10\n",
      "True\n",
      "False\n"
     ]
    }
   ],
   "source": [
    "from typing import NamedTuple\n",
    "\n",
    "class Point(NamedTuple):\n",
    "    x: int\n",
    "    y: int\n",
    "\n",
    "    def __str__(self):\n",
    "        return f'x: {self.x}; y: {self.y}'\n",
    "\n",
    "p1 = Point(10, 10)\n",
    "p2 = Point(10, 10)\n",
    "print(p1)\n",
    "print(p2)\n",
    "print(p1 == p2)\n",
    "print(p1 is p2)"
   ]
  },
  {
   "cell_type": "markdown",
   "metadata": {},
   "source": [
    "Data Class:\n",
    "\n",
    "A way to build a data class to use the dataclass operator"
   ]
  },
  {
   "cell_type": "code",
   "execution_count": 12,
   "metadata": {},
   "outputs": [
    {
     "name": "stdout",
     "output_type": "stream",
     "text": [
      "x: 10; y: 10\n",
      "x: 10; y: 10\n",
      "True\n",
      "False\n"
     ]
    }
   ],
   "source": [
    "from dataclasses import dataclass\n",
    "\n",
    "@dataclass\n",
    "class Point:\n",
    "    x: int\n",
    "    y: int\n",
    "\n",
    "    def __str__(self):\n",
    "        return f'x: {self.x}; y: {self.y}'\n",
    "\n",
    "p1 = Point(10, 10)\n",
    "p2 = Point(10, 10)\n",
    "print(p1)\n",
    "print(p2)\n",
    "print(p1 == p2)\n",
    "print(p1 is p2)"
   ]
  },
  {
   "cell_type": "code",
   "execution_count": 13,
   "metadata": {},
   "outputs": [],
   "source": [
    "from dataclasses import dataclass\n",
    "\n",
    "@dataclass\n",
    "class InventoryItem:\n",
    "    \"\"\"Class for keeping track of an item in inventory.\"\"\"\n",
    "    name: str\n",
    "    unit_price: float\n",
    "    quantity_on_hand: int = 0\n",
    "\n",
    "    def total_cost(self) -> float:\n",
    "        return self.unit_price * self.quantity_on_hand\n"
   ]
  },
  {
   "cell_type": "code",
   "execution_count": 14,
   "metadata": {},
   "outputs": [],
   "source": [
    "class InventoryItem:\n",
    "    def __init__(self, name: str, unit_price: float, quantity_on_hand: int = 0):\n",
    "        self.name = name\n",
    "        self.unit_price = unit_price\n",
    "        self.quantity_on_hand = quantity_on_hand"
   ]
  },
  {
   "cell_type": "markdown",
   "metadata": {},
   "source": [
    "Getting data as a Dict"
   ]
  },
  {
   "cell_type": "code",
   "execution_count": 16,
   "metadata": {},
   "outputs": [
    {
     "name": "stdout",
     "output_type": "stream",
     "text": [
      "{'x': 10, 'y': 12}\n",
      "{'x': 10, 'y': 12}\n",
      "{'x': 10, 'y': 12}\n"
     ]
    }
   ],
   "source": [
    "from collections import namedtuple\n",
    "from typing import NamedTuple\n",
    "from dataclasses import dataclass\n",
    "import dataclasses \n",
    "\n",
    "Pointnamedtuple = namedtuple('Point', 'x y')\n",
    "\n",
    "class PointNamedTuple(NamedTuple):\n",
    "    x: int\n",
    "    y: int\n",
    "    def __str__(self):\n",
    "        return f'x: {self.x}; y: {self.y}'\n",
    "@dataclass\n",
    "class Pointclass:\n",
    "    x: int\n",
    "    y: int\n",
    "    def __str__(self):\n",
    "        return f'x: {self.x}; y: {self.y}'\n",
    "\n",
    "p1 = Pointnamedtuple(10, 12)\n",
    "p2 = PointNamedTuple(10, 12)\n",
    "p3 = Pointclass(10, 12)\n",
    "print(p1._asdict())\n",
    "print(p2._asdict())\n",
    "print(dataclasses.asdict(p3))\n"
   ]
  },
  {
   "cell_type": "markdown",
   "metadata": {},
   "source": [
    " Replacing values in an immutable data class\n",
    "Returns a new object"
   ]
  },
  {
   "cell_type": "code",
   "metadata": {
    "ExecuteTime": {
     "end_time": "2025-01-07T18:25:19.584807Z",
     "start_time": "2025-01-07T18:24:57.777390Z"
    }
   },
   "source": [
    "from collections import namedtuple\n",
    "from typing import NamedTuple\n",
    "from dataclasses import dataclass\n",
    "import dataclasses \n",
    "\n",
    "\n",
    "Pointnamedtuple = namedtuple('Point', 'x y')\n",
    "\n",
    "\n",
    "class PointNamedTuple(NamedTuple):\n",
    "    x: int\n",
    "    y: int\n",
    "\n",
    "    def __str__(self):\n",
    "        return f'x: {self.x}; y: {self.y}'\n",
    "\n",
    "@dataclass\n",
    "class Pointdataclass:\n",
    "    x: int\n",
    "    y: int\n",
    "\n",
    "    def __str__(self):\n",
    "        return f'x: {self.x}; y: {self.y}'\n",
    "\n",
    "p1 = Pointnamedtuple(10, 12)\n",
    "p2 = PointNamedTuple(10, 12)\n",
    "p3 = Pointdataclass(10, 12)\n",
    "print(p1._replace(x=5))\n",
    "print(p2._replace(x=5))\n",
    "print(dataclasses.replace(p3, x=5))"
   ],
   "outputs": [
    {
     "name": "stdout",
     "output_type": "stream",
     "text": [
      "Point(x=5, y=12)\n",
      "x: 5; y: 12\n",
      "x: 5; y: 12\n"
     ]
    }
   ],
   "execution_count": 1
  },
  {
   "cell_type": "code",
   "execution_count": 21,
   "metadata": {},
   "outputs": [],
   "source": [
    "class Person:\n",
    "    def __init__(self, first_name, last_name, email):\n",
    "        self.first_name =  first_name\n",
    "        self.last_name = last_name\n",
    "        self.email = email\n",
    "    def __repr__(self):\n",
    "        return f'{self.first_name} {self.last_name}'\n",
    "    def get_email(self):\n",
    "        return self.email\n",
    "\n",
    "    def get_full_name(self):\n",
    "        return f'{self.last_name}, {self.first_name}'"
   ]
  },
  {
   "cell_type": "code",
   "execution_count": 22,
   "metadata": {},
   "outputs": [
    {
     "name": "stdout",
     "output_type": "stream",
     "text": [
      "john doe\n",
      "abc, abc, efg, hij\n"
     ]
    }
   ],
   "source": [
    "class Student(Person):\n",
    "\n",
    "    def __init__(self, first_name, last_name, email, program):\n",
    "        super().__init__(first_name, last_name, email)\n",
    "        self.program = program\n",
    "\n",
    "class Student(Person):\n",
    "    PROGRAMS = ['graduate', 'undergraduate']\n",
    "\n",
    "    def __init__(self, first_name, last_name, email, program):\n",
    "        super().__init__(first_name, last_name, email)\n",
    "        if program.lower() not in self.PROGRAMS:\n",
    "            raise ValueError('program can only be \"graduate\" or \"undergraduate\"')\n",
    "        self.program = program.lower()\n",
    "        self.classes = []\n",
    "\n",
    "\n",
    "    def enroll(self, name_of_course):\n",
    "        self.classes.append(name_of_course)\n",
    "\n",
    "    def print_classes(self):\n",
    "        classes = ', '.join(self.classes)\n",
    "        print(f'{classes}')\n",
    "\n",
    "s1 = Student('john', 'doe', 'jdoe@example.edu', 'gradUate')\n",
    "print(s1)\n",
    "s1.enroll('abc')\n",
    "s1.enroll('abc')\n",
    "s1.enroll('efg')\n",
    "s1.enroll('hij')\n",
    "s1.print_classes()"
   ]
  },
  {
   "cell_type": "code",
   "execution_count": 23,
   "metadata": {},
   "outputs": [
    {
     "name": "stdout",
     "output_type": "stream",
     "text": [
      "john doe\n",
      "Already enrolled in abc doe, john!\n",
      "abc, efg, hij\n"
     ]
    }
   ],
   "source": [
    "class Student(Person):\n",
    "    PROGRAMS = ['graduate', 'undergraduate']\n",
    "\n",
    "    def __init__(self, first_name, last_name, email, program):\n",
    "        super().__init__(first_name, last_name, email)\n",
    "        if program.lower() not in self.PROGRAMS:\n",
    "            raise ValueError('program can only be \"graduate\" or \"undergraduate\"')\n",
    "        self.program = program\n",
    "        self.classes = []\n",
    "\n",
    "\n",
    "    def enroll(self, name_of_course):\n",
    "        if name_of_course not in self.classes:\n",
    "            self.classes.append(name_of_course)\n",
    "        else:\n",
    "            print(f'Already enrolled in {name_of_course} {self.get_full_name()}!')\n",
    "\n",
    "    def print_classes(self):\n",
    "        classes = ', '.join(self.classes)\n",
    "        print(f'{classes}')\n",
    "\n",
    "    def print_self(self):\n",
    "        print(self)\n",
    "\n",
    "s1 = Student('john', 'doe', 'jdoe@example.edu', 'graduate')\n",
    "print(s1)\n",
    "s1.enroll('abc')\n",
    "s1.enroll('abc')\n",
    "s1.enroll('efg')\n",
    "s1.enroll('hij')\n",
    "s1.print_classes()\n"
   ]
  },
  {
   "cell_type": "code",
   "execution_count": 26,
   "metadata": {},
   "outputs": [
    {
     "name": "stdout",
     "output_type": "stream",
     "text": [
      "john doe\n",
      "Already enrolled in Math!\n",
      "Already enrolled in Math!\n",
      "You will be over the max credits! Cannot add Chemistry.\n",
      "Cannot enroll\n",
      "You will be over the max credits! Cannot add English.\n",
      "Cannot enroll\n",
      "You will be over the max credits! Cannot add Physics.\n",
      "Chemistry, Math, Math\n"
     ]
    }
   ],
   "source": [
    "class Student(Person):\n",
    "    PROGRAMS = ['graduate', 'undergraduate']\n",
    "    MAX_CREDITS = 9\n",
    "\n",
    "    def __init__(self, first_name, last_name, email, program):\n",
    "        super().__init__(first_name, last_name, email)\n",
    "        if program.lower() not in self.PROGRAMS:\n",
    "            raise ValueError('program can only be \"graduate\" or \"undergraduate\"')\n",
    "        self.program = program\n",
    "        self.classes = []\n",
    "        self.enrolled_credits = 0\n",
    "\n",
    "    def enroll(self, course):\n",
    "        if self.enrolled_credits < self.MAX_CREDITS:\n",
    "            self.classes.append(course)\n",
    "            self.enrolled_credits += course.credits\n",
    "        else:\n",
    "            print('Cannot enroll')\n",
    "        if self.get_total_credits() + course.credits > self.MAX_CREDITS:\n",
    "            print(f'You will be over the max credits! Cannot add {course}.')\n",
    "            return\n",
    "\n",
    "        if course not in self.classes:\n",
    "            self.classes.append(course)\n",
    "        else:\n",
    "            print(f'Already enrolled in {course}!')\n",
    "\n",
    "    def print_classes(self):\n",
    "        classes = ', '.join(sorted([i.course_name for i in self.classes]))\n",
    "        print(f'{classes}')\n",
    "\n",
    "\n",
    "    def get_total_credits(self):\n",
    "        total_credits = 0\n",
    "        for ele in self.classes:\n",
    "            total_credits += ele.credits\n",
    "        return total_credits\n",
    "\n",
    "class Course:\n",
    "    def __init__(self, course_name, credits):\n",
    "        self.course_name = course_name\n",
    "        self.credits = credits\n",
    "\n",
    "    def __repr__(self):\n",
    "        return f'{self.course_name}'\n",
    "\n",
    "    def __str__(self):\n",
    "        return f'{self.course_name}'\n",
    "\n",
    "\n",
    "    def get_course_name(self):\n",
    "        return self.course_name\n",
    "\n",
    "\n",
    "c1 = Course('Math', 3)\n",
    "c2 = Course('Physics', 4)\n",
    "c3 = Course('Chemistry', 3)\n",
    "c4 = Course('English', 3)\n",
    "\n",
    "s1 = Student('john', 'doe', 'jdoe@example.edu', 'graduate')\n",
    "print(s1)\n",
    "s1.enroll(c1)\n",
    "s1.enroll(c1)\n",
    "s1.enroll(c3)\n",
    "s1.enroll(c4)\n",
    "s1.enroll(c2)\n",
    "s1.print_classes()\n"
   ]
  },
  {
   "cell_type": "markdown",
   "metadata": {},
   "source": [
    "Exercise 2\n",
    "Write a Beverage class whose instances will represent beverages. Each beverage should have two attributes: a name (describing the beverage) and a temperature. Create several beverages and check that their names and temperatures are all handled correctly."
   ]
  },
  {
   "cell_type": "code",
   "execution_count": 27,
   "metadata": {},
   "outputs": [
    {
     "name": "stdout",
     "output_type": "stream",
     "text": [
      "Coke: 60\n",
      "Pepsi: 90\n",
      "Sprite: 120\n"
     ]
    }
   ],
   "source": [
    "class Beverage:\n",
    "    def __init__(self, name, temp):\n",
    "        self.name =  name\n",
    "        self.temp = temp\n",
    "    def __repr__(self):\n",
    "        return f'{self.name}: {self.temp}'\n",
    "b1 = Beverage('Coke', 60)\n",
    "b2 = Beverage('Pepsi', 90)\n",
    "b3 = Beverage('Sprite', 120)\n",
    "\n",
    "beverages = [b1, b2, b3]\n",
    "for beverage in beverages:\n",
    "    print(beverage)"
   ]
  },
  {
   "cell_type": "code",
   "execution_count": 28,
   "metadata": {},
   "outputs": [
    {
     "name": "stdout",
     "output_type": "stream",
     "text": [
      "Coke: 60\n",
      "Pepsi: 75\n",
      "Sprite: 120\n"
     ]
    }
   ],
   "source": [
    "class Beverage:\n",
    "    def __init__(self, name, temp = 75):\n",
    "        self.name =  name\n",
    "        self.temp = temp\n",
    "    def __repr__(self):\n",
    "        return f'{self.name}: {self.temp}'\n",
    "b1 = Beverage('Coke', 60)\n",
    "b2 = Beverage('Pepsi')\n",
    "b3 = Beverage('Sprite', 120)\n",
    "\n",
    "beverages = [b1, b2, b3]\n",
    "for beverage in beverages:\n",
    "    print(beverage)"
   ]
  },
  {
   "cell_type": "markdown",
   "metadata": {},
   "source": [
    "Create a new LogFile class that expects to be initialized with a filename. Inside of __init__, open the file for writing and assign it to an attribute, file, that sits on the instance. Check that it’s possible to write to the file via the file attribute."
   ]
  },
  {
   "cell_type": "code",
   "execution_count": 29,
   "metadata": {},
   "outputs": [],
   "source": [
    "class Logfile:\n",
    "    def __init__(self, filename):\n",
    "        self.filename = filename\n",
    "        self.file = None\n",
    "        \n",
    "    def open_file(self):\n",
    "        self.file = open(self.filename, 'w')\n",
    "        \n",
    "    def write_row(self, row):\n",
    "        self.file.write(f'{row.strip()}\\n')\n",
    "        \n",
    "    def close_file(self):\n",
    "        self.file.close()\n",
    "        \n",
    "\n",
    "        \n",
    "l1 = Logfile('log1.txt')\n",
    "l1.open_file()\n",
    "\n",
    "for row in ['abc', 'efg', 'hij']:\n",
    "    l1.write_row(row)\n",
    "    \n",
    "l1.close_file()\n",
    "\n",
    "l2 = Logfile('log2.txt')\n",
    "l2.open_file()\n",
    "\n",
    "for row in ['ABC', 'EFG', 'DHIJ']:\n",
    "    l2.write_row(row)\n",
    "    \n",
    "l2.close_file()"
   ]
  },
  {
   "cell_type": "markdown",
   "metadata": {},
   "source": [
    "Employee – Abstract\n",
    "\n",
    "variables (properties)\n",
    "\n",
    "lastname\n",
    "\n",
    "firstname\n",
    "\n",
    "social_security_number\n",
    "\n",
    "functions (methods)\n",
    "\n",
    "repr –\n",
    "\n",
    "earnings() –\n",
    "\n",
    "SalariedEmployee – inherits from Employee\n",
    "\n",
    "CommissionEmployee – inherits from Employee\n",
    "\n",
    "HourlyEmployee – inherits from Employee\n",
    "\n",
    "BasePlusCommissionEmployee – inherits from CommissionEmployee\n",
    "\n",
    "Demonstrate polymorphism"
   ]
  },
  {
   "cell_type": "code",
   "execution_count": 34,
   "metadata": {},
   "outputs": [
    {
     "name": "stdout",
     "output_type": "stream",
     "text": [
      "Employees processed individually:\n",
      "\n",
      "salaried employee: John Smith\n",
      "social security: 111-11-1111\n",
      "weekly salary: $800\n",
      "earned: $800\n",
      "\n",
      "hourly employee: Karen Price\n",
      "social security: 222-22-2222\n",
      "hourly wage: $16.75; hours worked: 40\n",
      "earned: $670.0\n",
      "\n",
      "commission employee: Sue Jones\n",
      "social security: 333-33-3333\n",
      "gross sales: $10000; commission rate: 0.06\n",
      "earned: $600.0\n",
      "\n",
      "base-salaried commission employee: Bob Lewis\n",
      "social security: 444-44-4444\n",
      "gross sales: $5000; commission rate: 0.04; base-salary: $300\n",
      "earned: $500.0\n",
      "\n",
      "salaried employee: John Smith\n",
      "social security: 111-11-1111\n",
      "weekly salary: $800\n",
      "earned: $800\n",
      "\n",
      "hourly employee: Karen Price\n",
      "social security: 222-22-2222\n",
      "hourly wage: $16.75; hours worked: 40\n",
      "earned: $670.0\n",
      "\n",
      "commission employee: Sue Jones\n",
      "social security: 333-33-3333\n",
      "gross sales: $10000; commission rate: 0.06\n",
      "earned: $600.0\n",
      "\n",
      "base-salaried commission employee: Bob Lewis\n",
      "social security: 444-44-4444\n",
      "gross sales: $5000; commission rate: 0.04; base-salary: $300\n",
      "new base salary with 10% increase is 330.0\n",
      "earned: $530.0\n"
     ]
    }
   ],
   "source": [
    "# Java How to Program Deitel et. al\n",
    "\n",
    "from abc import ABC, abstractmethod\n",
    "\n",
    "\n",
    "class Employee(ABC):\n",
    "\n",
    "    def __init__(self, first_name, last_name, ssn):\n",
    "        self.first_name = first_name\n",
    "        self.last_name = last_name\n",
    "        self.ssn = ssn\n",
    "\n",
    "    @abstractmethod\n",
    "    def earnings(self):\n",
    "        pass\n",
    "\n",
    "    def __repr__(self):\n",
    "        return f'{self.first_name} {self.last_name}\\nsocial security: {self.ssn}'\n",
    "\n",
    "\n",
    "class SalariedEmployee(Employee):\n",
    "    def __init__(self, first_name, last_name, ssn, salary):\n",
    "        super().__init__(first_name, last_name, ssn)\n",
    "        self.weekly_salary = salary\n",
    "\n",
    "    def earnings(self):\n",
    "        return self.weekly_salary\n",
    "\n",
    "    def __repr__(self):\n",
    "        return f'salaried employee: {super().__repr__()}\\nweekly salary: ${self.weekly_salary}'\n",
    "\n",
    "\n",
    "class HourlyEmployee(Employee):\n",
    "    def __init__(self, first_name, last_name, ssn, hourly_wage, hours_worked):\n",
    "        super().__init__(first_name, last_name, ssn)\n",
    "        self.hourly_wage = hourly_wage\n",
    "        self.hours_worked = hours_worked\n",
    "\n",
    "    def earnings(self):\n",
    "        if self.hours_worked < 40:  # no overtime\n",
    "            earned = self.hourly_wage * self.hours_worked\n",
    "        else:\n",
    "            earned = 40 * self.hourly_wage + \\\n",
    "                (self.hours_worked - 40) * self.hourly_wage * 1.5\n",
    "\n",
    "        return earned\n",
    "\n",
    "    def __repr__(self):\n",
    "        return f'hourly employee: {super().__repr__()}\\nhourly wage: ${self.hourly_wage}; hours worked: {self.hours_worked}'\n",
    "\n",
    "\n",
    "class CommissionEmployee(Employee):\n",
    "    def __init__(self, first_name, last_name, ssn, sales, rate):\n",
    "        super().__init__(first_name, last_name, ssn)\n",
    "        self.sales = sales\n",
    "        self.rate = rate\n",
    "\n",
    "    def earnings(self):\n",
    "        earned = self.sales * self.rate\n",
    "        return earned\n",
    "\n",
    "    def __repr__(self):\n",
    "        return f'commission employee: {super().__repr__()}\\ngross sales: ${self.sales}; commission rate: {self.rate}'\n",
    "\n",
    "\n",
    "class BasePlusCommissionEmployee(CommissionEmployee):\n",
    "    def __init__(self, first_name, last_name, ssn, sales, rate, salary):\n",
    "        super().__init__(first_name, last_name, ssn, sales, rate)\n",
    "        self.salary = salary\n",
    "\n",
    "    def earnings(self):\n",
    "        earned = self.salary + super().earnings()\n",
    "        return earned\n",
    "\n",
    "    def __repr__(self):\n",
    "        return f'base-salaried {super().__repr__()}; base-salary: ${self.salary}'\n",
    "\n",
    "\n",
    "print('Employees processed individually:\\n')\n",
    "salaried_employee = SalariedEmployee('John', 'Smith', '111-11-1111', 800)\n",
    "print(salaried_employee)\n",
    "print(f'earned: ${salaried_employee.earnings()}')\n",
    "\n",
    "print()\n",
    "hourly_employee = HourlyEmployee('Karen', 'Price', '222-22-2222', 16.75, 40)\n",
    "print(hourly_employee)\n",
    "print(f'earned: ${hourly_employee.earnings()}')\n",
    "\n",
    "print()\n",
    "commission_employee = CommissionEmployee('Sue', 'Jones', '333-33-3333', 10000, 0.06)\n",
    "print(commission_employee)\n",
    "print(f'earned: ${commission_employee.earnings()}')\n",
    "\n",
    "\n",
    "print()\n",
    "base_plus_commission_employee = BasePlusCommissionEmployee('Bob', 'Lewis', '444-44-4444', 5000, 0.04, 300)\n",
    "print(base_plus_commission_employee)\n",
    "print(f'earned: ${base_plus_commission_employee.earnings()}')\n",
    "\n",
    "\n",
    "employees = [salaried_employee, hourly_employee,\n",
    "             commission_employee, base_plus_commission_employee]\n",
    "\n",
    "for employee in employees:\n",
    "    print()\n",
    "    print(employee)\n",
    "    if employee.__class__.__name__ == 'BasePlusCommissionEmployee':\n",
    "        employee.salary = 1.10 * employee.salary\n",
    "        print(f'new base salary with 10% increase is {employee.salary}')\n",
    "    print(f'earned: ${employee.earnings()}')\n"
   ]
  },
  {
   "cell_type": "code",
   "execution_count": 35,
   "metadata": {},
   "outputs": [
    {
     "name": "stdout",
     "output_type": "stream",
     "text": [
      "Circle with radius 10\n",
      "Circle with radius 5\n",
      "78.53981633974483\n"
     ]
    }
   ],
   "source": [
    "import math\n",
    "class Circle:\n",
    "\n",
    "    def __init__(self, radius):\n",
    "        self.radius = radius\n",
    "\n",
    "    def get_area(self):\n",
    "        return math.pi * self.radius**2\n",
    "\n",
    "\n",
    "    def __repr__(self):\n",
    "        return \"Circle with radius \" + str(self.radius)\n",
    "    def __str__(self):\n",
    "        return \"Circle with radius \" + str(self.radius)\n",
    "\n",
    "c1 = Circle(10)\n",
    "c2 = Circle(5)\n",
    "\n",
    "print(c1)\n",
    "print(c2)\n",
    "print(c2.get_area())"
   ]
  },
  {
   "cell_type": "code",
   "execution_count": 36,
   "metadata": {},
   "outputs": [
    {
     "name": "stdout",
     "output_type": "stream",
     "text": [
      "Circle with radius 15\n"
     ]
    }
   ],
   "source": [
    "#Add\n",
    "class Circle:\n",
    "\n",
    "    def __init__(self, radius):\n",
    "        self.radius = radius\n",
    "\n",
    "    def get_area(self):\n",
    "        return math.pi * self.radius**2\n",
    "\n",
    "    def __str__(self):\n",
    "        return \"Circle with radius \" + str(self.radius)\n",
    "\n",
    "    def __add__(self, another_circle):\n",
    "        return Circle(self.radius + another_circle.radius)\n",
    "\n",
    "\n",
    "c1 = Circle(10)\n",
    "c2 = Circle(5)\n",
    "c3 = c1 + c2 ### ==> c1.__add__(c2) ==> Circle.__add__(c1, c2)\n",
    "print(c3)"
   ]
  },
  {
   "cell_type": "markdown",
   "metadata": {},
   "source": [
    "Three Requirements:\n",
    "\n",
    "iter() initializes the iterator class. Its purpose is to reset the state of the iterator, which means resetting the value.\n",
    "\n",
    "next() requires you to save the current value, increment it, and then return or emit it.\n",
    "\n",
    "Raise `StopIteration`` when you have exhausted your values.\n",
    "\n"
   ]
  },
  {
   "cell_type": "code",
   "execution_count": 39,
   "metadata": {},
   "outputs": [
    {
     "name": "stdout",
     "output_type": "stream",
     "text": [
      "0\n",
      "1\n",
      "2\n",
      "3\n",
      "4\n",
      "5\n",
      "6\n",
      "7\n",
      "8\n",
      "9\n",
      "0\n",
      "1\n",
      "8\n",
      "27\n",
      "64\n",
      "125\n",
      "216\n",
      "343\n",
      "512\n",
      "729\n",
      "0\n",
      "1\n",
      "8\n",
      "27\n",
      "64\n",
      "125\n",
      "216\n",
      "343\n",
      "512\n",
      "729\n"
     ]
    },
    {
     "ename": "NameError",
     "evalue": "name 'numbers' is not defined",
     "output_type": "error",
     "traceback": [
      "\u001B[0;31m---------------------------------------------------------------------------\u001B[0m",
      "\u001B[0;31mNameError\u001B[0m                                 Traceback (most recent call last)",
      "Cell \u001B[0;32mIn[39], line 59\u001B[0m\n\u001B[1;32m     56\u001B[0m     \u001B[38;5;28mprint\u001B[39m(ele)\n\u001B[1;32m     58\u001B[0m new_list \u001B[38;5;241m=\u001B[39m []\n\u001B[0;32m---> 59\u001B[0m \u001B[38;5;28;01mfor\u001B[39;00m number \u001B[38;5;129;01min\u001B[39;00m \u001B[43mnumbers\u001B[49m:\n\u001B[1;32m     61\u001B[0m     \u001B[38;5;28;01mif\u001B[39;00m number \u001B[38;5;241m%\u001B[39m \u001B[38;5;241m2\u001B[39m \u001B[38;5;241m==\u001B[39m \u001B[38;5;241m0\u001B[39m:\n\u001B[1;32m     62\u001B[0m         new_list\u001B[38;5;241m.\u001B[39mappend(number)\n",
      "\u001B[0;31mNameError\u001B[0m: name 'numbers' is not defined"
     ]
    }
   ],
   "source": [
    "class MyRange:\n",
    "\n",
    "    def __init__(self, limit):\n",
    "        self.limit = limit\n",
    "\n",
    "    def __iter__(self):\n",
    "        self.value = 0\n",
    "        return self\n",
    "\n",
    "    def __next__(self):\n",
    "        if self.value < self.limit:\n",
    "            output = self.value\n",
    "            self.value += 1\n",
    "            return output\n",
    "        else:\n",
    "            raise StopIteration\n",
    "\n",
    "\n",
    "i = iter(MyRange(10))\n",
    "next(i)\n",
    "for ele in MyRange(10):\n",
    "    print(ele)\n",
    "\n",
    "\n",
    "class PowX:\n",
    "    def __init__(self, limit, power):\n",
    "        self.limit = limit\n",
    "        self.power = power\n",
    "\n",
    "    def __iter__(self):\n",
    "        self.value = 0\n",
    "        return self\n",
    "\n",
    "    def __next__(self):\n",
    "        if self.value < self.limit:\n",
    "            output = self.value**self.power\n",
    "            self.value += 1\n",
    "            return output\n",
    "        else:\n",
    "            raise StopIteration\n",
    "\n",
    "\n",
    "for ele in PowX(10, 3):\n",
    "    print(ele)\n",
    "\n",
    "\n",
    "## lets use generator\n",
    "\n",
    "def PowX(limit, power):\n",
    "    value = 0\n",
    "    while value < limit:\n",
    "        yield value**power\n",
    "        value += 1\n",
    "\n",
    "for ele in PowX(10, 3):\n",
    "    print(ele)\n",
    "\n",
    "new_list = []\n",
    "for number in numbers:\n",
    "\n",
    "    if number % 2 == 0:\n",
    "        new_list.append(number)"
   ]
  },
  {
   "cell_type": "code",
   "execution_count": 40,
   "metadata": {},
   "outputs": [
    {
     "name": "stdout",
     "output_type": "stream",
     "text": [
      "\n",
      "Print class_variable\n",
      "t1.class_variable:  1\n",
      "t2.class_variable:  1\n",
      "\n",
      "Change class_variable in class definition and print class_variable\n",
      "t1.class_variable:  2\n",
      "t2.class_variable:  2\n",
      "\n",
      "Change class_variable in instance t1 and print class_variable\n",
      "t1.class_variable:  3\n",
      "t2.class_variable:  2\n",
      "\n",
      "Change class_variable in instance t2 and print class_variable\n",
      "t1.class_variable:  3\n",
      "t2.class_variable:  4\n",
      "\n",
      " ------------------------------------------------------------ \n",
      "\n",
      "\n",
      "Print class_variable\n",
      "t1.class_variable:  1\n",
      "t2.class_variable:  1\n",
      "\n",
      "Print instance_variable\n",
      "t1.instance_variable:  1\n",
      "t2.instance_variable:  2\n",
      "\n",
      "Change class_variable in class definition and print class_variable\n",
      "t1.class_variable:  2\n",
      "t1.class_variable:  2\n",
      "\n",
      "Change instance_variable for t1 and print instance_variable\n",
      "t1.instance_variable:  10\n",
      "t2.instance_variable:  2\n",
      "\n",
      "Change instance_variable for t2 and print instance_variable\n",
      "t1.instance_variable:  10\n",
      "t2.instance_variable:  20\n",
      "\n",
      "Change class_variable in instance t1 and print class_variable\n",
      "t1.class_variable:  3\n",
      "t2.class_variable:  2\n",
      "\n",
      "Change class_variable in instance t2 and print class_variable\n",
      "t1.class_variable:  3\n",
      "t2.class_variable:  4\n",
      "\n",
      " ------------------------------------------------------------ \n",
      "\n",
      "@staticmethod add:  7\n",
      "@staticmethod add:  7\n",
      "\n",
      " ------------------------------------------------------------ \n",
      "\n",
      "@classmethod add:  11\n",
      "@classmethod add -- access to class variable:  12\n",
      "\n",
      " ------------------------------------------------------------ \n",
      "\n",
      "add_static:  27\n",
      "add_class:  28\n",
      "Call from class -- add_object:  57\n",
      "Call from object -- add_object:  57\n"
     ]
    }
   ],
   "source": [
    "class TestClass:\n",
    "    class_variable = 1 # Belongs to the class. Shared by all instances\n",
    "\n",
    "\n",
    "\n",
    "t1 = TestClass()\n",
    "t2 = TestClass()\n",
    "\n",
    "\n",
    "print('\\nPrint class_variable')\n",
    "print('t1.class_variable: ', t1.class_variable)\n",
    "print('t2.class_variable: ', t2.class_variable)\n",
    "\n",
    "\n",
    "print('\\nChange class_variable in class definition and print class_variable')\n",
    "TestClass.class_variable = 2\n",
    "print('t1.class_variable: ', t1.class_variable)\n",
    "print('t2.class_variable: ', t2.class_variable)\n",
    "\n",
    "\n",
    "print('\\nChange class_variable in instance t1 and print class_variable')\n",
    "t1.class_variable = 3\n",
    "print('t1.class_variable: ', t1.class_variable)\n",
    "print('t2.class_variable: ', t2.class_variable)\n",
    "\n",
    "\n",
    "print('\\nChange class_variable in instance t2 and print class_variable')\n",
    "t2.class_variable = 4\n",
    "print('t1.class_variable: ', t1.class_variable)\n",
    "print('t2.class_variable: ', t2.class_variable)\n",
    "\n",
    "\n",
    "print('\\n', '-'*60, '\\n')\n",
    "\n",
    "class TestClass:\n",
    "    class_variable = 1 # Belongs to the class. Shared by all instances\n",
    "\n",
    "    def __init__(self, instance_variable):\n",
    "        self.instance_variable = instance_variable\n",
    "\n",
    "\n",
    "t1 = TestClass(1)\n",
    "t2 = TestClass(2)\n",
    "\n",
    "\n",
    "print('\\nPrint class_variable')\n",
    "print('t1.class_variable: ', t1.class_variable)\n",
    "print('t2.class_variable: ', t2.class_variable)\n",
    "\n",
    "print('\\nPrint instance_variable')\n",
    "print('t1.instance_variable: ', t1.instance_variable)\n",
    "print('t2.instance_variable: ', t2.instance_variable)\n",
    "\n",
    "\n",
    "print('\\nChange class_variable in class definition and print class_variable')\n",
    "TestClass.class_variable = 2\n",
    "print('t1.class_variable: ', t1.class_variable)\n",
    "print('t1.class_variable: ', t2.class_variable)\n",
    "\n",
    "\n",
    "print('\\nChange instance_variable for t1 and print instance_variable')\n",
    "t1.instance_variable = 10\n",
    "print('t1.instance_variable: ', t1.instance_variable)\n",
    "print('t2.instance_variable: ', t2.instance_variable)\n",
    "\n",
    "print('\\nChange instance_variable for t2 and print instance_variable')\n",
    "t2.instance_variable = 20\n",
    "print('t1.instance_variable: ', t1.instance_variable)\n",
    "print('t2.instance_variable: ', t2.instance_variable)\n",
    "\n",
    "\n",
    "print('\\nChange class_variable in instance t1 and print class_variable')\n",
    "t1.class_variable = 3\n",
    "print('t1.class_variable: ', t1.class_variable)\n",
    "print('t2.class_variable: ', t2.class_variable)\n",
    "\n",
    "\n",
    "print('\\nChange class_variable in instance t2 and print class_variable')\n",
    "t2.class_variable = 4\n",
    "print('t1.class_variable: ', t1.class_variable)\n",
    "print('t2.class_variable: ', t2.class_variable)\n",
    "\n",
    "\n",
    "\n",
    "print('\\n', '-'*60, '\\n')\n",
    "\n",
    "\n",
    "class TestClass:\n",
    "    class_variable = 1\n",
    "\n",
    "    # @staticmethod are bound to class rather than object. Therefore, to use them, you do not have\n",
    "    # to instantiate an object.\n",
    "    # NOTE: staticmethods do no have access to class properties (variables or methods).\n",
    "    # This means they cannot access class_variable.\n",
    "    # Such methods are used when you do not want subclasses to change/overwrite a specific method.\n",
    "\n",
    "    @staticmethod\n",
    "    def add(number1, number2):\n",
    "        return number1 + number2\n",
    "\n",
    "\n",
    "print('@staticmethod add: ', TestClass.add(3,4))\n",
    "\n",
    "\n",
    "class TestClass2:\n",
    "    class_variable = 1\n",
    "\n",
    "    # @staticmethod are bound to class rather than object. Therefore, to use them, you do not have\n",
    "    # to instantiate an object.\n",
    "    # NOTE: staticmethods do no have access to class properties (variables or methods).\n",
    "    # This means they cannot access class_variable.\n",
    "    # Such methods are used when you do not want subclasses to change/overwrite a specific method.\n",
    "\n",
    "    @staticmethod\n",
    "    def add(number1, number2):\n",
    "        return number1 + number2# + class_variable\n",
    "\n",
    "print('@staticmethod add: ', TestClass2.add(3,4))\n",
    "print('\\n', '-'*60, '\\n')\n",
    "\n",
    "class TestClass:\n",
    "    class_variable = 1\n",
    "\n",
    "    # @classmethod are bound to class rather than object. Therefore, to use them, you do not have\n",
    "    # to instantiate an object.\n",
    "    # NOTE: Unlike staticmethods, classmethods do have access to class properties (variables or methods).\n",
    "    # This means they can access class_variable.\n",
    "\n",
    "    @classmethod\n",
    "    def add(cls, number1, number2):\n",
    "        return number1 + number2\n",
    "print('@classmethod add: ', TestClass.add(5,6))\n",
    "\n",
    "\n",
    "\n",
    "class TestClass2:\n",
    "    class_variable = 1\n",
    "\n",
    "    # @classmethod are bound to class rather than object. Therefore, to use them, you do not have\n",
    "    # to instantiate an object.\n",
    "    # NOTE: Unlike staticmethods, classmethods do have access to class properties (variables or methods).\n",
    "    # This means they can access class_variable.\n",
    "\n",
    "    @classmethod\n",
    "    def add(cls, number1, number2):\n",
    "        return number1 + number2 + cls.class_variable\n",
    "\n",
    "print('@classmethod add -- access to class variable: ', TestClass2.add(5,6))\n",
    "\n",
    "\n",
    "print('\\n', '-'*60, '\\n')\n",
    "\n",
    "\n",
    "class TestClass:\n",
    "    class_variable = 1\n",
    "\n",
    "    @staticmethod\n",
    "    def add_static(number1, number2):\n",
    "        return number1 + number2\n",
    "\n",
    "    @classmethod\n",
    "    def add_class(cls, number1, number2):\n",
    "        return number1 + number2 + cls.class_variable\n",
    "\n",
    "\n",
    "    def add_object(self, number1, number2):\n",
    "        return number1 + number2 + self.class_variable + 29\n",
    "\n",
    "\n",
    "print('add_static: ', TestClass.add_static(13,14))\n",
    "print('add_class: ', TestClass.add_class(13,14))\n",
    "\n",
    "\n",
    "t1 = TestClass()\n",
    "\n",
    "print('Call from class -- add_object: ', TestClass.add_object(t1, 13, 14))\n",
    "print('Call from object -- add_object: ', t1.add_object(13, 14))"
   ]
  }
 ],
 "metadata": {
  "kernelspec": {
   "display_name": "Python 3",
   "language": "python",
   "name": "python3"
  },
  "language_info": {
   "codemirror_mode": {
    "name": "ipython",
    "version": 3
   },
   "file_extension": ".py",
   "mimetype": "text/x-python",
   "name": "python",
   "nbconvert_exporter": "python",
   "pygments_lexer": "ipython3",
   "version": "3.11.7"
  }
 },
 "nbformat": 4,
 "nbformat_minor": 2
}
