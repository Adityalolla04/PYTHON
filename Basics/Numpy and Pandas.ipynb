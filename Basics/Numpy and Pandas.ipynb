{
 "cells": [
  {
   "cell_type": "markdown",
   "metadata": {},
   "source": [
    "NumPy provides a multidimensional array object.\n",
    "\n",
    "Each object comes with an assortment of routines for fast operations on arrays, including mathematical, logical, shape manipulation, sorting, selecting, I/O, discrete Fourier transforms, basic linear algebra, basic statistical operations, random simulation and much more.\n",
    "\n",
    "Basically, you can use NumPy to create ndarray (N-dimensional array) and easily manipulate the array. It is super fast because it is written in C.\n",
    "\n",
    "How is it different from Python arrays?\n",
    "\n",
    "Python lists can be modified – you can add and remove elements. NumPy arrays have a fixed size at creation.\n",
    "\n",
    "Python lists can contain different data types. NumPy arrays can only have one data type. If you put in mixed types, they become a string.\n",
    "\n",
    "NumPy arrays come prepackaged with advanced mathematical operations. The operations are super fast even on large numbers of data and they use less memory.\n",
    "\n",
    "Why use NumPy\n",
    "\n",
    "Most data analysis programs use NumPy to manipulate data. They might take in data as standard Python lists, but they convert it to a NumPy array and manipulate the data using NumPy routines and output the transformed data as a NumPy array.\n",
    "\n",
    "NumPy data array is the main data type used in most scientific and mathematical Python-based packages."
   ]
  },
  {
   "cell_type": "code",
   "execution_count": 1,
   "metadata": {},
   "outputs": [
    {
     "name": "stdout",
     "output_type": "stream",
     "text": [
      "[0, 1, 4, 9, 16, 25, 36, 49, 64, 81]\n",
      "[ 0  1  4  9 16 25 36 49 64 81]\n",
      "25\n"
     ]
    }
   ],
   "source": [
    "import numpy as np\n",
    "# Example\n",
    "squared_values = []\n",
    "for number in range(10):\n",
    "    squared_values.append(number*number)\n",
    "print(squared_values)\n",
    "\n",
    "vector = np.array(range(10))\n",
    "scalar = 5\n",
    "print(vector * vector)\n",
    "print(scalar * scalar)\n"
   ]
  },
  {
   "cell_type": "markdown",
   "metadata": {},
   "source": [
    "Numpy Casting - Converts Python List to Numpy Array"
   ]
  },
  {
   "cell_type": "code",
   "execution_count": 8,
   "metadata": {},
   "outputs": [
    {
     "name": "stdout",
     "output_type": "stream",
     "text": [
      "[1, 2, 3]\n",
      "[1 2 3]\n",
      "[[1 2 3]\n",
      " [4 5 6]\n",
      " [7 8 9]]\n"
     ]
    },
    {
     "data": {
      "text/plain": [
       "array([[1, 2],\n",
       "       [3, 4],\n",
       "       [5, 6],\n",
       "       [7, 8]])"
      ]
     },
     "execution_count": 8,
     "metadata": {},
     "output_type": "execute_result"
    }
   ],
   "source": [
    "my_list = [1, 2, 3]\n",
    "print(my_list)\n",
    "\n",
    "import numpy as np\n",
    "\n",
    "my_vector = np.array(my_list)\n",
    "print(my_vector)\n",
    "\n",
    "my_matrix = np.array([my_list, my_list])\n",
    "np.hstack([my_list, my_list])\n",
    "\n",
    "my_nested_list = [[1, 2, 3], [4, 5, 6], [7, 8, 9]]\n",
    "my_matrix = np.array(my_nested_list)\n",
    "print(my_matrix)\n",
    "\n",
    "my_list1 = [[1,2], [3,4]]\n",
    "my_list2 = [[5,6], [7,8]]  \n",
    "np.hstack([my_list1, my_list2])   \n",
    "np.vstack([my_list1, my_list2])\n",
    "\n",
    "\n"
   ]
  },
  {
   "cell_type": "markdown",
   "metadata": {},
   "source": [
    "Numpy_ Creating arrays"
   ]
  },
  {
   "cell_type": "code",
   "execution_count": 3,
   "metadata": {},
   "outputs": [
    {
     "data": {
      "text/plain": [
       "array([1900., 1910., 1920., 1930., 1940., 1950., 1960., 1970., 1980.,\n",
       "       1990., 2000.])"
      ]
     },
     "execution_count": 3,
     "metadata": {},
     "output_type": "execute_result"
    }
   ],
   "source": [
    "import numpy as np\n",
    "my_list = range(10)\n",
    "## Create the array using arrange\n",
    "np.arange(10)\n",
    "np.arange(0, 10)\n",
    "np.arange(0, 10, 2)\n",
    "\n",
    "## Create arrays with zeros\n",
    "np.zeros(3)\n",
    "np.zeros((3, 3))\n",
    "\n",
    "## Create arrays of ones\n",
    "np.ones(3)\n",
    "np.ones((3, 3))\n",
    "np.ones(3) *  4\n",
    "## Create evenly spaced vector\n",
    "### Example use case: when you have Y values for a plot but need to generate X values\n",
    "### *** Includes both start an end \n",
    "# np.arange(start, end(not included), step size)\n",
    "# np.linspace(start, end(included), number_of_points)\n",
    "np.linspace(0, 10, 5)\n",
    "np.linspace(1900, 2000, 11)"
   ]
  },
  {
   "cell_type": "code",
   "execution_count": 4,
   "metadata": {},
   "outputs": [
    {
     "data": {
      "text/plain": [
       "array([[1., 0., 0.],\n",
       "       [0., 1., 0.],\n",
       "       [0., 0., 1.]])"
      ]
     },
     "execution_count": 4,
     "metadata": {},
     "output_type": "execute_result"
    }
   ],
   "source": [
    "#Create an indentify matrix\n",
    "np.eye(3)"
   ]
  },
  {
   "cell_type": "code",
   "execution_count": 5,
   "metadata": {},
   "outputs": [
    {
     "data": {
      "text/plain": [
       "array([[0., 0., 0.],\n",
       "       [0., 0., 0.]])"
      ]
     },
     "execution_count": 5,
     "metadata": {},
     "output_type": "execute_result"
    }
   ],
   "source": [
    "# Creating an Empty Matrix\n",
    "np.empty((2, 3))"
   ]
  },
  {
   "cell_type": "code",
   "execution_count": 6,
   "metadata": {},
   "outputs": [
    {
     "data": {
      "text/plain": [
       "array([57, 62, 31, 47, 63])"
      ]
     },
     "execution_count": 6,
     "metadata": {},
     "output_type": "execute_result"
    }
   ],
   "source": [
    "# Creating Random Numbers\n",
    "#Uniform Distribution\n",
    "np.random.rand(3)\n",
    "np.random.rand(3,3)\n",
    "# Normal distribution\n",
    "np.random.randn(3)\n",
    "np.random.randn(3,3)\n",
    "# Random integers\n",
    "# np.random.randint(start, end(not_included), size)\n",
    "np.random.randint(1,101)\n",
    "np.random.randint(1,101,5)  "
   ]
  },
  {
   "cell_type": "code",
   "execution_count": 7,
   "metadata": {},
   "outputs": [
    {
     "name": "stdout",
     "output_type": "stream",
     "text": [
      "[[1 2 3]\n",
      " [4 5 6]\n",
      " [7 8 9]]\n",
      "[[ 1  2  3  4]\n",
      " [ 5  6  7  8]\n",
      " [ 9 10 11 12]]\n"
     ]
    }
   ],
   "source": [
    "vector = np.arange(1, 10)\n",
    "print(vector.reshape(3, 3))\n",
    "vector = np.arange(1,13)\n",
    "print(vector.reshape(3,4))"
   ]
  },
  {
   "cell_type": "markdown",
   "metadata": {},
   "source": [
    "Basic Array Operations"
   ]
  },
  {
   "cell_type": "code",
   "execution_count": 9,
   "metadata": {},
   "outputs": [
    {
     "data": {
      "text/plain": [
       "(5, 5)"
      ]
     },
     "execution_count": 9,
     "metadata": {},
     "output_type": "execute_result"
    }
   ],
   "source": [
    "#Basic Array operations\n",
    "vector = np.random.randint(1, 50, 25)\n",
    "#Min\n",
    "vector.min()\n",
    "# Max\n",
    "vector.max()\n",
    "# Get location of min value\n",
    "index = vector.argmin()\n",
    "# Get location of max value\n",
    "index = vector.argmax\n",
    "#Get Shape\n",
    "vector.shape\n",
    "\n",
    "my_matrix = vector.reshape(5, 5)\n",
    "my_matrix.shape"
   ]
  },
  {
   "cell_type": "markdown",
   "metadata": {},
   "source": [
    "Indexing a 1D Array Vector"
   ]
  },
  {
   "cell_type": "code",
   "execution_count": 10,
   "metadata": {},
   "outputs": [
    {
     "data": {
      "text/plain": [
       "9"
      ]
     },
     "execution_count": 10,
     "metadata": {},
     "output_type": "execute_result"
    }
   ],
   "source": [
    "vector = np.array(range(10))\n",
    "# vector[index]\n",
    "# vector [start:end]\n",
    "# vector [:end]\n",
    "# vector [start:]\n",
    "# vector [start, end, step]\n",
    "vector[3]\n",
    "vector[3:8]\n",
    "vector[:5]\n",
    "vector[5:]\n",
    "vector[3:9:2]\n",
    "vector[-1]\n"
   ]
  },
  {
   "cell_type": "code",
   "execution_count": null,
   "metadata": {},
   "outputs": [],
   "source": []
  }
 ],
 "metadata": {
  "kernelspec": {
   "display_name": ".venv",
   "language": "python",
   "name": "python3"
  },
  "language_info": {
   "codemirror_mode": {
    "name": "ipython",
    "version": 3
   },
   "file_extension": ".py",
   "mimetype": "text/x-python",
   "name": "python",
   "nbconvert_exporter": "python",
   "pygments_lexer": "ipython3",
   "version": "3.11.7"
  }
 },
 "nbformat": 4,
 "nbformat_minor": 2
}
